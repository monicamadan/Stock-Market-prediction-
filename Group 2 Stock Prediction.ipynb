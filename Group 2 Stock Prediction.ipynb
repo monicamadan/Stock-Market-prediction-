{
 "cells": [
  {
   "cell_type": "code",
   "execution_count": 2,
   "metadata": {},
   "outputs": [],
   "source": [
    "import yfinance as yf\n",
    "import pandas as pd\n",
    "import matplotlib.pyplot as plt\n",
    "import numpy as np\n",
    "\n",
    "import statsmodels.api as sm \n",
    "import statsmodels.tsa.api as smt# for the dicley fuller stationary time series\n",
    "from sklearn import preprocessing, metrics # preprocessing\n",
    "from sklearn.preprocessing import MinMaxScaler"
   ]
  },
  {
   "cell_type": "code",
   "execution_count": 3,
   "metadata": {},
   "outputs": [],
   "source": [
    "bse = yf.Ticker(\"^BSESN\") # Ticker object for BSE stock exchange...it gets all the data..ticker is a term used in stock"
   ]
  },
  {
   "cell_type": "code",
   "execution_count": 4,
   "metadata": {},
   "outputs": [],
   "source": [
    "hist = bse.history(period=\"max\") # to get historical data only # some days are skipped in between"
   ]
  },
  {
   "cell_type": "code",
   "execution_count": 5,
   "metadata": {},
   "outputs": [
    {
     "data": {
      "text/html": [
       "<div>\n",
       "<style scoped>\n",
       "    .dataframe tbody tr th:only-of-type {\n",
       "        vertical-align: middle;\n",
       "    }\n",
       "\n",
       "    .dataframe tbody tr th {\n",
       "        vertical-align: top;\n",
       "    }\n",
       "\n",
       "    .dataframe thead th {\n",
       "        text-align: right;\n",
       "    }\n",
       "</style>\n",
       "<table border=\"1\" class=\"dataframe\">\n",
       "  <thead>\n",
       "    <tr style=\"text-align: right;\">\n",
       "      <th></th>\n",
       "      <th>Open</th>\n",
       "      <th>High</th>\n",
       "      <th>Low</th>\n",
       "      <th>Close</th>\n",
       "      <th>Volume</th>\n",
       "      <th>Dividends</th>\n",
       "      <th>Stock Splits</th>\n",
       "    </tr>\n",
       "    <tr>\n",
       "      <th>Date</th>\n",
       "      <th></th>\n",
       "      <th></th>\n",
       "      <th></th>\n",
       "      <th></th>\n",
       "      <th></th>\n",
       "      <th></th>\n",
       "      <th></th>\n",
       "    </tr>\n",
       "  </thead>\n",
       "  <tbody>\n",
       "    <tr>\n",
       "      <th>1997-07-01</th>\n",
       "      <td>4263.109863</td>\n",
       "      <td>4301.770020</td>\n",
       "      <td>4247.660156</td>\n",
       "      <td>4300.859863</td>\n",
       "      <td>0</td>\n",
       "      <td>0</td>\n",
       "      <td>0</td>\n",
       "    </tr>\n",
       "    <tr>\n",
       "      <th>1997-07-02</th>\n",
       "      <td>4302.959961</td>\n",
       "      <td>4395.310059</td>\n",
       "      <td>4295.399902</td>\n",
       "      <td>4333.899902</td>\n",
       "      <td>0</td>\n",
       "      <td>0</td>\n",
       "      <td>0</td>\n",
       "    </tr>\n",
       "    <tr>\n",
       "      <th>1997-07-03</th>\n",
       "      <td>4335.790039</td>\n",
       "      <td>4393.290039</td>\n",
       "      <td>4299.970215</td>\n",
       "      <td>4323.459961</td>\n",
       "      <td>0</td>\n",
       "      <td>0</td>\n",
       "      <td>0</td>\n",
       "    </tr>\n",
       "    <tr>\n",
       "      <th>1997-07-04</th>\n",
       "      <td>4332.700195</td>\n",
       "      <td>4347.589844</td>\n",
       "      <td>4300.580078</td>\n",
       "      <td>4323.819824</td>\n",
       "      <td>0</td>\n",
       "      <td>0</td>\n",
       "      <td>0</td>\n",
       "    </tr>\n",
       "    <tr>\n",
       "      <th>1997-07-07</th>\n",
       "      <td>4326.810059</td>\n",
       "      <td>4391.009766</td>\n",
       "      <td>4289.490234</td>\n",
       "      <td>4291.450195</td>\n",
       "      <td>0</td>\n",
       "      <td>0</td>\n",
       "      <td>0</td>\n",
       "    </tr>\n",
       "  </tbody>\n",
       "</table>\n",
       "</div>"
      ],
      "text/plain": [
       "                   Open         High          Low        Close  Volume  \\\n",
       "Date                                                                     \n",
       "1997-07-01  4263.109863  4301.770020  4247.660156  4300.859863       0   \n",
       "1997-07-02  4302.959961  4395.310059  4295.399902  4333.899902       0   \n",
       "1997-07-03  4335.790039  4393.290039  4299.970215  4323.459961       0   \n",
       "1997-07-04  4332.700195  4347.589844  4300.580078  4323.819824       0   \n",
       "1997-07-07  4326.810059  4391.009766  4289.490234  4291.450195       0   \n",
       "\n",
       "            Dividends  Stock Splits  \n",
       "Date                                 \n",
       "1997-07-01          0             0  \n",
       "1997-07-02          0             0  \n",
       "1997-07-03          0             0  \n",
       "1997-07-04          0             0  \n",
       "1997-07-07          0             0  "
      ]
     },
     "execution_count": 5,
     "metadata": {},
     "output_type": "execute_result"
    }
   ],
   "source": [
    "hist.head()"
   ]
  },
  {
   "cell_type": "code",
   "execution_count": 22,
   "metadata": {},
   "outputs": [
    {
     "data": {
      "text/html": [
       "<div>\n",
       "<style scoped>\n",
       "    .dataframe tbody tr th:only-of-type {\n",
       "        vertical-align: middle;\n",
       "    }\n",
       "\n",
       "    .dataframe tbody tr th {\n",
       "        vertical-align: top;\n",
       "    }\n",
       "\n",
       "    .dataframe thead th {\n",
       "        text-align: right;\n",
       "    }\n",
       "</style>\n",
       "<table border=\"1\" class=\"dataframe\">\n",
       "  <thead>\n",
       "    <tr style=\"text-align: right;\">\n",
       "      <th></th>\n",
       "      <th>Open</th>\n",
       "      <th>High</th>\n",
       "      <th>Low</th>\n",
       "      <th>Close</th>\n",
       "      <th>Volume</th>\n",
       "      <th>Dividends</th>\n",
       "      <th>Stock Splits</th>\n",
       "    </tr>\n",
       "    <tr>\n",
       "      <th>Date</th>\n",
       "      <th></th>\n",
       "      <th></th>\n",
       "      <th></th>\n",
       "      <th></th>\n",
       "      <th></th>\n",
       "      <th></th>\n",
       "      <th></th>\n",
       "    </tr>\n",
       "  </thead>\n",
       "  <tbody>\n",
       "    <tr>\n",
       "      <th>2021-07-13</th>\n",
       "      <td>52694.890625</td>\n",
       "      <td>52806.859375</td>\n",
       "      <td>52545.679688</td>\n",
       "      <td>52769.730469</td>\n",
       "      <td>7900</td>\n",
       "      <td>0</td>\n",
       "      <td>0</td>\n",
       "    </tr>\n",
       "    <tr>\n",
       "      <th>2021-07-14</th>\n",
       "      <td>52801.441406</td>\n",
       "      <td>52978.578125</td>\n",
       "      <td>52611.968750</td>\n",
       "      <td>52904.050781</td>\n",
       "      <td>9300</td>\n",
       "      <td>0</td>\n",
       "      <td>0</td>\n",
       "    </tr>\n",
       "    <tr>\n",
       "      <th>2021-07-15</th>\n",
       "      <td>52968.890625</td>\n",
       "      <td>53266.121094</td>\n",
       "      <td>52948.429688</td>\n",
       "      <td>53158.851562</td>\n",
       "      <td>8100</td>\n",
       "      <td>0</td>\n",
       "      <td>0</td>\n",
       "    </tr>\n",
       "    <tr>\n",
       "      <th>2021-07-16</th>\n",
       "      <td>53244.398438</td>\n",
       "      <td>53290.808594</td>\n",
       "      <td>52997.089844</td>\n",
       "      <td>53140.058594</td>\n",
       "      <td>6700</td>\n",
       "      <td>0</td>\n",
       "      <td>0</td>\n",
       "    </tr>\n",
       "    <tr>\n",
       "      <th>2021-07-19</th>\n",
       "      <td>52606.988281</td>\n",
       "      <td>52821.171875</td>\n",
       "      <td>52405.890625</td>\n",
       "      <td>52553.398438</td>\n",
       "      <td>0</td>\n",
       "      <td>0</td>\n",
       "      <td>0</td>\n",
       "    </tr>\n",
       "  </tbody>\n",
       "</table>\n",
       "</div>"
      ],
      "text/plain": [
       "                    Open          High           Low         Close  Volume  \\\n",
       "Date                                                                         \n",
       "2021-07-13  52694.890625  52806.859375  52545.679688  52769.730469    7900   \n",
       "2021-07-14  52801.441406  52978.578125  52611.968750  52904.050781    9300   \n",
       "2021-07-15  52968.890625  53266.121094  52948.429688  53158.851562    8100   \n",
       "2021-07-16  53244.398438  53290.808594  52997.089844  53140.058594    6700   \n",
       "2021-07-19  52606.988281  52821.171875  52405.890625  52553.398438       0   \n",
       "\n",
       "            Dividends  Stock Splits  \n",
       "Date                                 \n",
       "2021-07-13          0             0  \n",
       "2021-07-14          0             0  \n",
       "2021-07-15          0             0  \n",
       "2021-07-16          0             0  \n",
       "2021-07-19          0             0  "
      ]
     },
     "execution_count": 22,
     "metadata": {},
     "output_type": "execute_result"
    }
   ],
   "source": [
    "hist.tail()\n"
   ]
  },
  {
   "cell_type": "code",
   "execution_count": 23,
   "metadata": {},
   "outputs": [
    {
     "data": {
      "text/plain": [
       "(5914, 7)"
      ]
     },
     "execution_count": 23,
     "metadata": {},
     "output_type": "execute_result"
    }
   ],
   "source": [
    "hist.shape"
   ]
  },
  {
   "cell_type": "code",
   "execution_count": 24,
   "metadata": {},
   "outputs": [
    {
     "data": {
      "text/plain": [
       "Open            float64\n",
       "High            float64\n",
       "Low             float64\n",
       "Close           float64\n",
       "Volume            int64\n",
       "Dividends         int64\n",
       "Stock Splits      int64\n",
       "dtype: object"
      ]
     },
     "execution_count": 24,
     "metadata": {},
     "output_type": "execute_result"
    }
   ],
   "source": [
    "hist.dtypes"
   ]
  },
  {
   "cell_type": "code",
   "execution_count": 6,
   "metadata": {},
   "outputs": [
    {
     "data": {
      "image/png": "[encoded data removed]",
      "text/plain": [
       "<Figure size 1224x576 with 1 Axes>"
      ]
     },
     "metadata": {
      "needs_background": "light"
     },
     "output_type": "display_data"
    }
   ],
   "source": [
    "plt.figure(figsize=(17, 8))\n",
    "plt.plot(hist.Close)\n",
    "plt.title('Closing price Bombay Stock Exchange(BSE)')\n",
    "plt.ylabel('Closing price ($)')\n",
    "plt.xlabel('Trading day')\n",
    "plt.grid(True)\n",
    "plt.show() #plotting on date and closing price"
   ]
  },
  {
   "cell_type": "markdown",
   "metadata": {},
   "source": [
    "# Moving Window Average"
   ]
  },
  {
   "cell_type": "code",
   "execution_count": 7,
   "metadata": {},
   "outputs": [],
   "source": [
    "rolling_avg = hist.rolling(window=50).mean()"
   ]
  },
  {
   "cell_type": "code",
   "execution_count": 27,
   "metadata": {},
   "outputs": [
    {
     "data": {
      "text/html": [
       "<div>\n",
       "<style scoped>\n",
       "    .dataframe tbody tr th:only-of-type {\n",
       "        vertical-align: middle;\n",
       "    }\n",
       "\n",
       "    .dataframe tbody tr th {\n",
       "        vertical-align: top;\n",
       "    }\n",
       "\n",
       "    .dataframe thead th {\n",
       "        text-align: right;\n",
       "    }\n",
       "</style>\n",
       "<table border=\"1\" class=\"dataframe\">\n",
       "  <thead>\n",
       "    <tr style=\"text-align: right;\">\n",
       "      <th></th>\n",
       "      <th>Open</th>\n",
       "      <th>High</th>\n",
       "      <th>Low</th>\n",
       "      <th>Close</th>\n",
       "      <th>Volume</th>\n",
       "      <th>Dividends</th>\n",
       "      <th>Stock Splits</th>\n",
       "    </tr>\n",
       "    <tr>\n",
       "      <th>Date</th>\n",
       "      <th></th>\n",
       "      <th></th>\n",
       "      <th></th>\n",
       "      <th></th>\n",
       "      <th></th>\n",
       "      <th></th>\n",
       "      <th></th>\n",
       "    </tr>\n",
       "  </thead>\n",
       "  <tbody>\n",
       "    <tr>\n",
       "      <th>1997-07-01</th>\n",
       "      <td>NaN</td>\n",
       "      <td>NaN</td>\n",
       "      <td>NaN</td>\n",
       "      <td>NaN</td>\n",
       "      <td>NaN</td>\n",
       "      <td>NaN</td>\n",
       "      <td>NaN</td>\n",
       "    </tr>\n",
       "    <tr>\n",
       "      <th>1997-07-02</th>\n",
       "      <td>NaN</td>\n",
       "      <td>NaN</td>\n",
       "      <td>NaN</td>\n",
       "      <td>NaN</td>\n",
       "      <td>NaN</td>\n",
       "      <td>NaN</td>\n",
       "      <td>NaN</td>\n",
       "    </tr>\n",
       "    <tr>\n",
       "      <th>1997-07-03</th>\n",
       "      <td>NaN</td>\n",
       "      <td>NaN</td>\n",
       "      <td>NaN</td>\n",
       "      <td>NaN</td>\n",
       "      <td>NaN</td>\n",
       "      <td>NaN</td>\n",
       "      <td>NaN</td>\n",
       "    </tr>\n",
       "    <tr>\n",
       "      <th>1997-07-04</th>\n",
       "      <td>NaN</td>\n",
       "      <td>NaN</td>\n",
       "      <td>NaN</td>\n",
       "      <td>NaN</td>\n",
       "      <td>NaN</td>\n",
       "      <td>NaN</td>\n",
       "      <td>NaN</td>\n",
       "    </tr>\n",
       "    <tr>\n",
       "      <th>1997-07-07</th>\n",
       "      <td>NaN</td>\n",
       "      <td>NaN</td>\n",
       "      <td>NaN</td>\n",
       "      <td>NaN</td>\n",
       "      <td>NaN</td>\n",
       "      <td>NaN</td>\n",
       "      <td>NaN</td>\n",
       "    </tr>\n",
       "    <tr>\n",
       "      <th>...</th>\n",
       "      <td>...</td>\n",
       "      <td>...</td>\n",
       "      <td>...</td>\n",
       "      <td>...</td>\n",
       "      <td>...</td>\n",
       "      <td>...</td>\n",
       "      <td>...</td>\n",
       "    </tr>\n",
       "    <tr>\n",
       "      <th>2021-07-13</th>\n",
       "      <td>51510.666484</td>\n",
       "      <td>51687.592578</td>\n",
       "      <td>51212.844219</td>\n",
       "      <td>51474.831875</td>\n",
       "      <td>12158.0</td>\n",
       "      <td>0.0</td>\n",
       "      <td>0.0</td>\n",
       "    </tr>\n",
       "    <tr>\n",
       "      <th>2021-07-14</th>\n",
       "      <td>51599.575078</td>\n",
       "      <td>51769.899531</td>\n",
       "      <td>51304.522187</td>\n",
       "      <td>51558.542500</td>\n",
       "      <td>12050.0</td>\n",
       "      <td>0.0</td>\n",
       "      <td>0.0</td>\n",
       "    </tr>\n",
       "    <tr>\n",
       "      <th>2021-07-15</th>\n",
       "      <td>51681.320312</td>\n",
       "      <td>51855.291328</td>\n",
       "      <td>51400.501797</td>\n",
       "      <td>51656.649297</td>\n",
       "      <td>11948.0</td>\n",
       "      <td>0.0</td>\n",
       "      <td>0.0</td>\n",
       "    </tr>\n",
       "    <tr>\n",
       "      <th>2021-07-16</th>\n",
       "      <td>51774.825859</td>\n",
       "      <td>51946.253125</td>\n",
       "      <td>51495.357187</td>\n",
       "      <td>51745.899453</td>\n",
       "      <td>11828.0</td>\n",
       "      <td>0.0</td>\n",
       "      <td>0.0</td>\n",
       "    </tr>\n",
       "    <tr>\n",
       "      <th>2021-07-19</th>\n",
       "      <td>51849.410000</td>\n",
       "      <td>52022.450391</td>\n",
       "      <td>51571.192812</td>\n",
       "      <td>51817.972188</td>\n",
       "      <td>11638.0</td>\n",
       "      <td>0.0</td>\n",
       "      <td>0.0</td>\n",
       "    </tr>\n",
       "  </tbody>\n",
       "</table>\n",
       "<p>5914 rows × 7 columns</p>\n",
       "</div>"
      ],
      "text/plain": [
       "                    Open          High           Low         Close   Volume  \\\n",
       "Date                                                                          \n",
       "1997-07-01           NaN           NaN           NaN           NaN      NaN   \n",
       "1997-07-02           NaN           NaN           NaN           NaN      NaN   \n",
       "1997-07-03           NaN           NaN           NaN           NaN      NaN   \n",
       "1997-07-04           NaN           NaN           NaN           NaN      NaN   \n",
       "1997-07-07           NaN           NaN           NaN           NaN      NaN   \n",
       "...                  ...           ...           ...           ...      ...   \n",
       "2021-07-13  51510.666484  51687.592578  51212.844219  51474.831875  12158.0   \n",
       "2021-07-14  51599.575078  51769.899531  51304.522187  51558.542500  12050.0   \n",
       "2021-07-15  51681.320312  51855.291328  51400.501797  51656.649297  11948.0   \n",
       "2021-07-16  51774.825859  51946.253125  51495.357187  51745.899453  11828.0   \n",
       "2021-07-19  51849.410000  52022.450391  51571.192812  51817.972188  11638.0   \n",
       "\n",
       "            Dividends  Stock Splits  \n",
       "Date                                 \n",
       "1997-07-01        NaN           NaN  \n",
       "1997-07-02        NaN           NaN  \n",
       "1997-07-03        NaN           NaN  \n",
       "1997-07-04        NaN           NaN  \n",
       "1997-07-07        NaN           NaN  \n",
       "...               ...           ...  \n",
       "2021-07-13        0.0           0.0  \n",
       "2021-07-14        0.0           0.0  \n",
       "2021-07-15        0.0           0.0  \n",
       "2021-07-16        0.0           0.0  \n",
       "2021-07-19        0.0           0.0  \n",
       "\n",
       "[5914 rows x 7 columns]"
      ]
     },
     "execution_count": 27,
     "metadata": {},
     "output_type": "execute_result"
    }
   ],
   "source": [
    "rolling_avg"
   ]
  },
  {
   "cell_type": "code",
   "execution_count": 8,
   "metadata": {},
   "outputs": [
    {
     "data": {
      "text/plain": [
       "<matplotlib.legend.Legend at 0x2abc2997a90>"
      ]
     },
     "execution_count": 8,
     "metadata": {},
     "output_type": "execute_result"
    },
    {
     "data": {
      "image/png": "[encoded data removed]",
      "text/plain": [
       "<Figure size 1080x504 with 1 Axes>"
      ]
     },
     "metadata": {
      "needs_background": "light"
     },
     "output_type": "display_data"
    }
   ],
   "source": [
    "plt.figure(figsize=(15,7))\n",
    "plt.plot(hist.Close,label='BSE', color='b')\n",
    "plt.plot(rolling_avg.Close,label='50-DMA', color='r')\n",
    "plt.legend()# rolling average 50 DAYS"
   ]
  },
  {
   "cell_type": "code",
   "execution_count": 10,
   "metadata": {},
   "outputs": [
    {
     "data": {
      "text/plain": [
       "<matplotlib.legend.Legend at 0x2abc2dafe20>"
      ]
     },
     "execution_count": 10,
     "metadata": {},
     "output_type": "execute_result"
    },
    {
     "data": {
      "image/png": "[encoded data removed]",
      "text/plain": [
       "<Figure size 1080x504 with 1 Axes>"
      ]
     },
     "metadata": {
      "needs_background": "light"
     },
     "output_type": "display_data"
    }
   ],
   "source": [
    "rolling_avg = hist.rolling(window=21).mean()\n",
    "plt.figure(figsize=(15,7))\n",
    "plt.plot(hist.Close,label='BSE', color='b')\n",
    "plt.plot(rolling_avg.Close,label='50-DMA', color='r')\n",
    "plt.legend() # ROLLING AVERAGE 3 WEEKS"
   ]
  },
  {
   "cell_type": "code",
   "execution_count": 11,
   "metadata": {},
   "outputs": [
    {
     "name": "stderr",
     "output_type": "stream",
     "text": [
      "No handles with labels found to put in legend.\n"
     ]
    },
    {
     "data": {
      "text/plain": [
       "<matplotlib.legend.Legend at 0x2abc4307d90>"
      ]
     },
     "execution_count": 11,
     "metadata": {},
     "output_type": "execute_result"
    },
    {
     "data": {
      "image/png": "[encoded data removed]",
      "text/plain": [
       "<Figure size 1080x504 with 1 Axes>"
      ]
     },
     "metadata": {
      "needs_background": "light"
     },
     "output_type": "display_data"
    }
   ],
   "source": [
    "\n",
    "plt.figure(figsize=(15,7))\n",
    "Diff = hist.Close - hist.Close.shift(1)\n",
    "#Diff = rolling_avg.Close - rolling_avg.Close.shift(1)\n",
    "plt.plot(Diff)\n",
    "#converting to stable data\n",
    "#rolling_avg = hist.rolling(window=20).mean()\n",
    "#plt.plot(hist.Close,label='BSE', color='b')\n",
    "#plt.plot(rolling_avg.Close-rolling_avg.Close.shift(-1),label='50-DMA', color='r')\n",
    "plt.legend()"
   ]
  },
  {
   "cell_type": "code",
   "execution_count": 12,
   "metadata": {},
   "outputs": [
    {
     "name": "stdout",
     "output_type": "stream",
     "text": [
      "Time Series Analysis Plots\n",
      " Dickey-Fuller: p=0.99576\n"
     ]
    },
    {
     "data": {
      "image/png": "[encoded data removed]",
      "text/plain": [
       "<Figure size 432x288 with 1 Axes>"
      ]
     },
     "metadata": {
      "needs_background": "light"
     },
     "output_type": "display_data"
    },
    {
     "data": {
      "image/png": "[encoded data removed]",
      "text/plain": [
       "<Figure size 432x288 with 1 Axes>"
      ]
     },
     "metadata": {
      "needs_background": "light"
     },
     "output_type": "display_data"
    }
   ],
   "source": [
    "\n",
    "p_value = sm.tsa.stattools.adfuller(hist.Close)[1] #p value is not 0 means not stationary\n",
    "#p_value = sm.tsa.stattools.adfuller(rolling_avg.Close[39:])[1] #p value is not 0 means not stationary\n",
    "\n",
    "print('Time Series Analysis Plots\\n Dickey-Fuller: p={0:.5f}'.format(p_value))\n",
    "smt.graphics.plot_acf(hist.Close, lags=30)#autocorealtion graph\n",
    "smt.graphics.plot_pacf(hist.Close, lags=30)#partial auto corelation graph\n",
    "#smt.graphics.plot_acf(rolling_avg.Close[39:], lags=30)#autocorealtion graph\n",
    "#smt.graphics.plot_pacf(rolling_avg.Close[39:], lags=30)#partial auto corelation graph\n",
    "\n",
    "plt.tight_layout()\n"
   ]
  },
  {
   "cell_type": "code",
   "execution_count": 13,
   "metadata": {},
   "outputs": [
    {
     "name": "stdout",
     "output_type": "stream",
     "text": [
      "Time Series Analysis Plots\n",
      " Dickey-Fuller: p=0.00000\n"
     ]
    },
    {
     "data": {
      "image/png": "[encoded data removed]",
      "text/plain": [
       "<Figure size 432x288 with 1 Axes>"
      ]
     },
     "metadata": {
      "needs_background": "light"
     },
     "output_type": "display_data"
    },
    {
     "data": {
      "image/png": "[encoded data removed]",
      "text/plain": [
       "<Figure size 432x288 with 1 Axes>"
      ]
     },
     "metadata": {
      "needs_background": "light"
     },
     "output_type": "display_data"
    }
   ],
   "source": [
    "p_value = sm.tsa.stattools.adfuller(Diff[1:])[1] #p value is not 0 means not stationary\n",
    "#p_value = sm.tsa.stattools.adfuller(Diff[31:])[1] #p value is not 0 means not stationary\n",
    "print('Time Series Analysis Plots\\n Dickey-Fuller: p={0:.5f}'.format(p_value))\n",
    "smt.graphics.plot_acf(Diff[1:], lags=30)#autocorealtion graph\n",
    "smt.graphics.plot_pacf(Diff[1:], lags=30)#partial auto corelation graph\n",
    "# time series is stationary now as p value is 0\n",
    "#smt.graphics.plot_acf(Diff[31:], lags=30)#autocorealtion graph\n",
    "#smt.graphics.plot_pacf(Diff[31:], lags=30)#partial auto corelation graph\n",
    "plt.tight_layout()"
   ]
  },
  {
   "cell_type": "code",
   "execution_count": 37,
   "metadata": {},
   "outputs": [
    {
     "data": {
      "text/html": [
       "<div>\n",
       "<style scoped>\n",
       "    .dataframe tbody tr th:only-of-type {\n",
       "        vertical-align: middle;\n",
       "    }\n",
       "\n",
       "    .dataframe tbody tr th {\n",
       "        vertical-align: top;\n",
       "    }\n",
       "\n",
       "    .dataframe thead th {\n",
       "        text-align: right;\n",
       "    }\n",
       "</style>\n",
       "<table border=\"1\" class=\"dataframe\">\n",
       "  <thead>\n",
       "    <tr style=\"text-align: right;\">\n",
       "      <th></th>\n",
       "      <th>publish_date</th>\n",
       "      <th>headline_category</th>\n",
       "      <th>headline_text</th>\n",
       "    </tr>\n",
       "  </thead>\n",
       "  <tbody>\n",
       "    <tr>\n",
       "      <th>0</th>\n",
       "      <td>20010102</td>\n",
       "      <td>unknown</td>\n",
       "      <td>Status quo will not be disturbed at Ayodhya; s...</td>\n",
       "    </tr>\n",
       "    <tr>\n",
       "      <th>1</th>\n",
       "      <td>20010102</td>\n",
       "      <td>unknown</td>\n",
       "      <td>Fissures in Hurriyat over Pak visit</td>\n",
       "    </tr>\n",
       "    <tr>\n",
       "      <th>2</th>\n",
       "      <td>20010102</td>\n",
       "      <td>unknown</td>\n",
       "      <td>America's unwanted heading for India?</td>\n",
       "    </tr>\n",
       "    <tr>\n",
       "      <th>3</th>\n",
       "      <td>20010102</td>\n",
       "      <td>unknown</td>\n",
       "      <td>For bigwigs; it is destination Goa</td>\n",
       "    </tr>\n",
       "    <tr>\n",
       "      <th>4</th>\n",
       "      <td>20010102</td>\n",
       "      <td>unknown</td>\n",
       "      <td>Extra buses to clear tourist traffic</td>\n",
       "    </tr>\n",
       "  </tbody>\n",
       "</table>\n",
       "</div>"
      ],
      "text/plain": [
       "   publish_date headline_category  \\\n",
       "0      20010102           unknown   \n",
       "1      20010102           unknown   \n",
       "2      20010102           unknown   \n",
       "3      20010102           unknown   \n",
       "4      20010102           unknown   \n",
       "\n",
       "                                       headline_text  \n",
       "0  Status quo will not be disturbed at Ayodhya; s...  \n",
       "1                Fissures in Hurriyat over Pak visit  \n",
       "2              America's unwanted heading for India?  \n",
       "3                 For bigwigs; it is destination Goa  \n",
       "4               Extra buses to clear tourist traffic  "
      ]
     },
     "execution_count": 37,
     "metadata": {},
     "output_type": "execute_result"
    }
   ],
   "source": [
    "#Reading the textual news data\n",
    "\n",
    "df_news=pd.read_csv(\"india-news-headlines.csv\")\n",
    "df_news.head()"
   ]
  },
  {
   "cell_type": "code",
   "execution_count": 40,
   "metadata": {},
   "outputs": [
    {
     "data": {
      "text/plain": [
       "\"America's unwanted heading for India?\""
      ]
     },
     "execution_count": 40,
     "metadata": {},
     "output_type": "execute_result"
    }
   ],
   "source": [
    "df_news.headline_text[2]"
   ]
  },
  {
   "cell_type": "code",
   "execution_count": 41,
   "metadata": {},
   "outputs": [
    {
     "data": {
      "text/plain": [
       "publish_date         3424067\n",
       "headline_category    3424067\n",
       "headline_text        3424067\n",
       "dtype: int64"
      ]
     },
     "execution_count": 41,
     "metadata": {},
     "output_type": "execute_result"
    }
   ],
   "source": [
    " df_news.isnull().count()"
   ]
  },
  {
   "cell_type": "code",
   "execution_count": 42,
   "metadata": {},
   "outputs": [],
   "source": [
    "df_news=df_news.drop_duplicates()"
   ]
  },
  {
   "cell_type": "code",
   "execution_count": 43,
   "metadata": {},
   "outputs": [],
   "source": [
    "df_news.publish_date=pd.to_datetime( df_news.publish_date ,format='%Y%m%d')"
   ]
  },
  {
   "cell_type": "code",
   "execution_count": 44,
   "metadata": {},
   "outputs": [
    {
     "data": {
      "text/html": [
       "<div>\n",
       "<style scoped>\n",
       "    .dataframe tbody tr th:only-of-type {\n",
       "        vertical-align: middle;\n",
       "    }\n",
       "\n",
       "    .dataframe tbody tr th {\n",
       "        vertical-align: top;\n",
       "    }\n",
       "\n",
       "    .dataframe thead th {\n",
       "        text-align: right;\n",
       "    }\n",
       "</style>\n",
       "<table border=\"1\" class=\"dataframe\">\n",
       "  <thead>\n",
       "    <tr style=\"text-align: right;\">\n",
       "      <th></th>\n",
       "      <th>publish_date</th>\n",
       "      <th>headline_category</th>\n",
       "      <th>headline_text</th>\n",
       "    </tr>\n",
       "  </thead>\n",
       "  <tbody>\n",
       "    <tr>\n",
       "      <th>0</th>\n",
       "      <td>2001-01-02</td>\n",
       "      <td>unknown</td>\n",
       "      <td>Status quo will not be disturbed at Ayodhya; s...</td>\n",
       "    </tr>\n",
       "    <tr>\n",
       "      <th>1</th>\n",
       "      <td>2001-01-02</td>\n",
       "      <td>unknown</td>\n",
       "      <td>Fissures in Hurriyat over Pak visit</td>\n",
       "    </tr>\n",
       "    <tr>\n",
       "      <th>2</th>\n",
       "      <td>2001-01-02</td>\n",
       "      <td>unknown</td>\n",
       "      <td>America's unwanted heading for India?</td>\n",
       "    </tr>\n",
       "    <tr>\n",
       "      <th>3</th>\n",
       "      <td>2001-01-02</td>\n",
       "      <td>unknown</td>\n",
       "      <td>For bigwigs; it is destination Goa</td>\n",
       "    </tr>\n",
       "    <tr>\n",
       "      <th>4</th>\n",
       "      <td>2001-01-02</td>\n",
       "      <td>unknown</td>\n",
       "      <td>Extra buses to clear tourist traffic</td>\n",
       "    </tr>\n",
       "  </tbody>\n",
       "</table>\n",
       "</div>"
      ],
      "text/plain": [
       "  publish_date headline_category  \\\n",
       "0   2001-01-02           unknown   \n",
       "1   2001-01-02           unknown   \n",
       "2   2001-01-02           unknown   \n",
       "3   2001-01-02           unknown   \n",
       "4   2001-01-02           unknown   \n",
       "\n",
       "                                       headline_text  \n",
       "0  Status quo will not be disturbed at Ayodhya; s...  \n",
       "1                Fissures in Hurriyat over Pak visit  \n",
       "2              America's unwanted heading for India?  \n",
       "3                 For bigwigs; it is destination Goa  \n",
       "4               Extra buses to clear tourist traffic  "
      ]
     },
     "execution_count": 44,
     "metadata": {},
     "output_type": "execute_result"
    }
   ],
   "source": [
    "df_news.head()"
   ]
  },
  {
   "cell_type": "code",
   "execution_count": 45,
   "metadata": {},
   "outputs": [],
   "source": [
    "df_news=df_news.groupby(['publish_date'])['headline_text'].apply(lambda x: ','.join(x)) # combining all the headline for the day"
   ]
  },
  {
   "cell_type": "code",
   "execution_count": 47,
   "metadata": {},
   "outputs": [
    {
     "data": {
      "text/plain": [
       "publish_date\n",
       "2001-01-02    Status quo will not be disturbed at Ayodhya; s...\n",
       "2001-01-03    Powerless north India gropes in the dark,Think...\n",
       "2001-01-04    The string that pulled Stephen Hawking to Indi...\n",
       "2001-01-05    Light combat craft takes India into club class...\n",
       "2001-01-06    Light combat craft takes India into club class...\n",
       "Name: headline_text, dtype: object"
      ]
     },
     "execution_count": 47,
     "metadata": {},
     "output_type": "execute_result"
    }
   ],
   "source": [
    "df_news.head()"
   ]
  },
  {
   "cell_type": "code",
   "execution_count": 50,
   "metadata": {},
   "outputs": [
    {
     "data": {
      "text/plain": [
       "publish_date\n",
       "2020-12-27    #BigInterview! Dhritiman Chatterjee: Nobody da...\n",
       "2020-12-28    Horoscope Today; 28 December 2020: Check astro...\n",
       "2020-12-29    Man recovers charred remains of 'thief' from h...\n",
       "2020-12-30    Numerology Readings 30 December 2020: Predicti...\n",
       "2020-12-31    Horoscope Today; 31 December 2020: Check astro...\n",
       "Name: headline_text, dtype: object"
      ]
     },
     "execution_count": 50,
     "metadata": {},
     "output_type": "execute_result"
    }
   ],
   "source": [
    "df_news.tail()"
   ]
  },
  {
   "cell_type": "code",
   "execution_count": 51,
   "metadata": {},
   "outputs": [
    {
     "data": {
      "text/html": [
       "<div>\n",
       "<style scoped>\n",
       "    .dataframe tbody tr th:only-of-type {\n",
       "        vertical-align: middle;\n",
       "    }\n",
       "\n",
       "    .dataframe tbody tr th {\n",
       "        vertical-align: top;\n",
       "    }\n",
       "\n",
       "    .dataframe thead th {\n",
       "        text-align: right;\n",
       "    }\n",
       "</style>\n",
       "<table border=\"1\" class=\"dataframe\">\n",
       "  <thead>\n",
       "    <tr style=\"text-align: right;\">\n",
       "      <th></th>\n",
       "      <th>Open</th>\n",
       "      <th>High</th>\n",
       "      <th>Low</th>\n",
       "      <th>Close</th>\n",
       "      <th>Volume</th>\n",
       "      <th>Dividends</th>\n",
       "      <th>Stock Splits</th>\n",
       "      <th>headline_text</th>\n",
       "    </tr>\n",
       "  </thead>\n",
       "  <tbody>\n",
       "    <tr>\n",
       "      <th>2001-01-02</th>\n",
       "      <td>3953.219971</td>\n",
       "      <td>4028.570068</td>\n",
       "      <td>3929.370117</td>\n",
       "      <td>4018.879883</td>\n",
       "      <td>0.0</td>\n",
       "      <td>0.0</td>\n",
       "      <td>0.0</td>\n",
       "      <td>Status quo will not be disturbed at Ayodhya; s...</td>\n",
       "    </tr>\n",
       "    <tr>\n",
       "      <th>2001-01-03</th>\n",
       "      <td>3977.580078</td>\n",
       "      <td>4067.659912</td>\n",
       "      <td>3977.580078</td>\n",
       "      <td>4060.020020</td>\n",
       "      <td>0.0</td>\n",
       "      <td>0.0</td>\n",
       "      <td>0.0</td>\n",
       "      <td>Powerless north India gropes in the dark,Think...</td>\n",
       "    </tr>\n",
       "    <tr>\n",
       "      <th>2001-01-04</th>\n",
       "      <td>4180.970215</td>\n",
       "      <td>4180.970215</td>\n",
       "      <td>4109.549805</td>\n",
       "      <td>4115.370117</td>\n",
       "      <td>0.0</td>\n",
       "      <td>0.0</td>\n",
       "      <td>0.0</td>\n",
       "      <td>The string that pulled Stephen Hawking to Indi...</td>\n",
       "    </tr>\n",
       "    <tr>\n",
       "      <th>2001-01-05</th>\n",
       "      <td>4116.339844</td>\n",
       "      <td>4195.009766</td>\n",
       "      <td>4115.350098</td>\n",
       "      <td>4183.729980</td>\n",
       "      <td>0.0</td>\n",
       "      <td>0.0</td>\n",
       "      <td>0.0</td>\n",
       "      <td>Light combat craft takes India into club class...</td>\n",
       "    </tr>\n",
       "    <tr>\n",
       "      <th>2001-01-08</th>\n",
       "      <td>4164.759766</td>\n",
       "      <td>4206.720215</td>\n",
       "      <td>4101.529785</td>\n",
       "      <td>4120.430176</td>\n",
       "      <td>0.0</td>\n",
       "      <td>0.0</td>\n",
       "      <td>0.0</td>\n",
       "      <td>Sangh Parivar; Babri panel up the ante,Frontru...</td>\n",
       "    </tr>\n",
       "    <tr>\n",
       "      <th>...</th>\n",
       "      <td>...</td>\n",
       "      <td>...</td>\n",
       "      <td>...</td>\n",
       "      <td>...</td>\n",
       "      <td>...</td>\n",
       "      <td>...</td>\n",
       "      <td>...</td>\n",
       "      <td>...</td>\n",
       "    </tr>\n",
       "    <tr>\n",
       "      <th>2020-12-24</th>\n",
       "      <td>46743.488281</td>\n",
       "      <td>47053.398438</td>\n",
       "      <td>46539.019531</td>\n",
       "      <td>46973.539062</td>\n",
       "      <td>13700.0</td>\n",
       "      <td>0.0</td>\n",
       "      <td>0.0</td>\n",
       "      <td>How to set the mood for sex during cold winter...</td>\n",
       "    </tr>\n",
       "    <tr>\n",
       "      <th>2020-12-28</th>\n",
       "      <td>47153.589844</td>\n",
       "      <td>47406.718750</td>\n",
       "      <td>47148.238281</td>\n",
       "      <td>47353.750000</td>\n",
       "      <td>9600.0</td>\n",
       "      <td>0.0</td>\n",
       "      <td>0.0</td>\n",
       "      <td>Horoscope Today; 28 December 2020: Check astro...</td>\n",
       "    </tr>\n",
       "    <tr>\n",
       "      <th>2020-12-29</th>\n",
       "      <td>47466.621094</td>\n",
       "      <td>47714.550781</td>\n",
       "      <td>47361.898438</td>\n",
       "      <td>47613.078125</td>\n",
       "      <td>12800.0</td>\n",
       "      <td>0.0</td>\n",
       "      <td>0.0</td>\n",
       "      <td>Man recovers charred remains of 'thief' from h...</td>\n",
       "    </tr>\n",
       "    <tr>\n",
       "      <th>2020-12-30</th>\n",
       "      <td>47789.031250</td>\n",
       "      <td>47807.851562</td>\n",
       "      <td>47358.359375</td>\n",
       "      <td>47746.218750</td>\n",
       "      <td>15600.0</td>\n",
       "      <td>0.0</td>\n",
       "      <td>0.0</td>\n",
       "      <td>Numerology Readings 30 December 2020: Predicti...</td>\n",
       "    </tr>\n",
       "    <tr>\n",
       "      <th>2020-12-31</th>\n",
       "      <td>47753.109375</td>\n",
       "      <td>47896.968750</td>\n",
       "      <td>47602.121094</td>\n",
       "      <td>47751.328125</td>\n",
       "      <td>13900.0</td>\n",
       "      <td>0.0</td>\n",
       "      <td>0.0</td>\n",
       "      <td>Horoscope Today; 31 December 2020: Check astro...</td>\n",
       "    </tr>\n",
       "  </tbody>\n",
       "</table>\n",
       "<p>4893 rows × 8 columns</p>\n",
       "</div>"
      ],
      "text/plain": [
       "                    Open          High           Low         Close   Volume  \\\n",
       "2001-01-02   3953.219971   4028.570068   3929.370117   4018.879883      0.0   \n",
       "2001-01-03   3977.580078   4067.659912   3977.580078   4060.020020      0.0   \n",
       "2001-01-04   4180.970215   4180.970215   4109.549805   4115.370117      0.0   \n",
       "2001-01-05   4116.339844   4195.009766   4115.350098   4183.729980      0.0   \n",
       "2001-01-08   4164.759766   4206.720215   4101.529785   4120.430176      0.0   \n",
       "...                  ...           ...           ...           ...      ...   \n",
       "2020-12-24  46743.488281  47053.398438  46539.019531  46973.539062  13700.0   \n",
       "2020-12-28  47153.589844  47406.718750  47148.238281  47353.750000   9600.0   \n",
       "2020-12-29  47466.621094  47714.550781  47361.898438  47613.078125  12800.0   \n",
       "2020-12-30  47789.031250  47807.851562  47358.359375  47746.218750  15600.0   \n",
       "2020-12-31  47753.109375  47896.968750  47602.121094  47751.328125  13900.0   \n",
       "\n",
       "            Dividends  Stock Splits  \\\n",
       "2001-01-02        0.0           0.0   \n",
       "2001-01-03        0.0           0.0   \n",
       "2001-01-04        0.0           0.0   \n",
       "2001-01-05        0.0           0.0   \n",
       "2001-01-08        0.0           0.0   \n",
       "...               ...           ...   \n",
       "2020-12-24        0.0           0.0   \n",
       "2020-12-28        0.0           0.0   \n",
       "2020-12-29        0.0           0.0   \n",
       "2020-12-30        0.0           0.0   \n",
       "2020-12-31        0.0           0.0   \n",
       "\n",
       "                                                headline_text  \n",
       "2001-01-02  Status quo will not be disturbed at Ayodhya; s...  \n",
       "2001-01-03  Powerless north India gropes in the dark,Think...  \n",
       "2001-01-04  The string that pulled Stephen Hawking to Indi...  \n",
       "2001-01-05  Light combat craft takes India into club class...  \n",
       "2001-01-08  Sangh Parivar; Babri panel up the ante,Frontru...  \n",
       "...                                                       ...  \n",
       "2020-12-24  How to set the mood for sex during cold winter...  \n",
       "2020-12-28  Horoscope Today; 28 December 2020: Check astro...  \n",
       "2020-12-29  Man recovers charred remains of 'thief' from h...  \n",
       "2020-12-30  Numerology Readings 30 December 2020: Predicti...  \n",
       "2020-12-31  Horoscope Today; 31 December 2020: Check astro...  \n",
       "\n",
       "[4893 rows x 8 columns]"
      ]
     },
     "execution_count": 51,
     "metadata": {},
     "output_type": "execute_result"
    }
   ],
   "source": [
    "df_stock=pd.concat([hist,df_news],axis=1)\n",
    "df_stock.dropna(axis=0, inplace=True)\n",
    "df_stock"
   ]
  },
  {
   "cell_type": "code",
   "execution_count": 52,
   "metadata": {},
   "outputs": [
    {
     "data": {
      "text/html": [
       "<div>\n",
       "<style scoped>\n",
       "    .dataframe tbody tr th:only-of-type {\n",
       "        vertical-align: middle;\n",
       "    }\n",
       "\n",
       "    .dataframe tbody tr th {\n",
       "        vertical-align: top;\n",
       "    }\n",
       "\n",
       "    .dataframe thead th {\n",
       "        text-align: right;\n",
       "    }\n",
       "</style>\n",
       "<table border=\"1\" class=\"dataframe\">\n",
       "  <thead>\n",
       "    <tr style=\"text-align: right;\">\n",
       "      <th></th>\n",
       "      <th>Open</th>\n",
       "      <th>High</th>\n",
       "      <th>Low</th>\n",
       "      <th>Close</th>\n",
       "      <th>Volume</th>\n",
       "      <th>Dividends</th>\n",
       "      <th>Stock Splits</th>\n",
       "      <th>headline_text</th>\n",
       "    </tr>\n",
       "  </thead>\n",
       "  <tbody>\n",
       "    <tr>\n",
       "      <th>2020-12-24</th>\n",
       "      <td>46743.488281</td>\n",
       "      <td>47053.398438</td>\n",
       "      <td>46539.019531</td>\n",
       "      <td>46973.539062</td>\n",
       "      <td>13700.0</td>\n",
       "      <td>0.0</td>\n",
       "      <td>0.0</td>\n",
       "      <td>How to set the mood for sex during cold winter...</td>\n",
       "    </tr>\n",
       "    <tr>\n",
       "      <th>2020-12-28</th>\n",
       "      <td>47153.589844</td>\n",
       "      <td>47406.718750</td>\n",
       "      <td>47148.238281</td>\n",
       "      <td>47353.750000</td>\n",
       "      <td>9600.0</td>\n",
       "      <td>0.0</td>\n",
       "      <td>0.0</td>\n",
       "      <td>Horoscope Today; 28 December 2020: Check astro...</td>\n",
       "    </tr>\n",
       "    <tr>\n",
       "      <th>2020-12-29</th>\n",
       "      <td>47466.621094</td>\n",
       "      <td>47714.550781</td>\n",
       "      <td>47361.898438</td>\n",
       "      <td>47613.078125</td>\n",
       "      <td>12800.0</td>\n",
       "      <td>0.0</td>\n",
       "      <td>0.0</td>\n",
       "      <td>Man recovers charred remains of 'thief' from h...</td>\n",
       "    </tr>\n",
       "    <tr>\n",
       "      <th>2020-12-30</th>\n",
       "      <td>47789.031250</td>\n",
       "      <td>47807.851562</td>\n",
       "      <td>47358.359375</td>\n",
       "      <td>47746.218750</td>\n",
       "      <td>15600.0</td>\n",
       "      <td>0.0</td>\n",
       "      <td>0.0</td>\n",
       "      <td>Numerology Readings 30 December 2020: Predicti...</td>\n",
       "    </tr>\n",
       "    <tr>\n",
       "      <th>2020-12-31</th>\n",
       "      <td>47753.109375</td>\n",
       "      <td>47896.968750</td>\n",
       "      <td>47602.121094</td>\n",
       "      <td>47751.328125</td>\n",
       "      <td>13900.0</td>\n",
       "      <td>0.0</td>\n",
       "      <td>0.0</td>\n",
       "      <td>Horoscope Today; 31 December 2020: Check astro...</td>\n",
       "    </tr>\n",
       "  </tbody>\n",
       "</table>\n",
       "</div>"
      ],
      "text/plain": [
       "                    Open          High           Low         Close   Volume  \\\n",
       "2020-12-24  46743.488281  47053.398438  46539.019531  46973.539062  13700.0   \n",
       "2020-12-28  47153.589844  47406.718750  47148.238281  47353.750000   9600.0   \n",
       "2020-12-29  47466.621094  47714.550781  47361.898438  47613.078125  12800.0   \n",
       "2020-12-30  47789.031250  47807.851562  47358.359375  47746.218750  15600.0   \n",
       "2020-12-31  47753.109375  47896.968750  47602.121094  47751.328125  13900.0   \n",
       "\n",
       "            Dividends  Stock Splits  \\\n",
       "2020-12-24        0.0           0.0   \n",
       "2020-12-28        0.0           0.0   \n",
       "2020-12-29        0.0           0.0   \n",
       "2020-12-30        0.0           0.0   \n",
       "2020-12-31        0.0           0.0   \n",
       "\n",
       "                                                headline_text  \n",
       "2020-12-24  How to set the mood for sex during cold winter...  \n",
       "2020-12-28  Horoscope Today; 28 December 2020: Check astro...  \n",
       "2020-12-29  Man recovers charred remains of 'thief' from h...  \n",
       "2020-12-30  Numerology Readings 30 December 2020: Predicti...  \n",
       "2020-12-31  Horoscope Today; 31 December 2020: Check astro...  "
      ]
     },
     "execution_count": 52,
     "metadata": {},
     "output_type": "execute_result"
    }
   ],
   "source": [
    "df_stock.tail()"
   ]
  },
  {
   "cell_type": "code",
   "execution_count": 57,
   "metadata": {},
   "outputs": [],
   "source": [
    "from nltk.sentiment.vader import SentimentIntensityAnalyzer\n",
    "import unicodedata"
   ]
  },
  {
   "cell_type": "code",
   "execution_count": 61,
   "metadata": {},
   "outputs": [],
   "source": [
    "sid = SentimentIntensityAnalyzer()"
   ]
  },
  {
   "cell_type": "code",
   "execution_count": 62,
   "metadata": {},
   "outputs": [
    {
     "data": {
      "text/plain": [
       "<nltk.sentiment.vader.SentimentIntensityAnalyzer at 0x2444add5eb0>"
      ]
     },
     "execution_count": 62,
     "metadata": {},
     "output_type": "execute_result"
    }
   ],
   "source": []
  },
  {
   "cell_type": "code",
   "execution_count": 63,
   "metadata": {},
   "outputs": [
    {
     "data": {
      "text/html": [
       "<div>\n",
       "<style scoped>\n",
       "    .dataframe tbody tr th:only-of-type {\n",
       "        vertical-align: middle;\n",
       "    }\n",
       "\n",
       "    .dataframe tbody tr th {\n",
       "        vertical-align: top;\n",
       "    }\n",
       "\n",
       "    .dataframe thead th {\n",
       "        text-align: right;\n",
       "    }\n",
       "</style>\n",
       "<table border=\"1\" class=\"dataframe\">\n",
       "  <thead>\n",
       "    <tr style=\"text-align: right;\">\n",
       "      <th></th>\n",
       "      <th>Open</th>\n",
       "      <th>High</th>\n",
       "      <th>Low</th>\n",
       "      <th>Close</th>\n",
       "      <th>Volume</th>\n",
       "      <th>Dividends</th>\n",
       "      <th>Stock Splits</th>\n",
       "      <th>headline_text</th>\n",
       "      <th>Compound</th>\n",
       "      <th>Negative</th>\n",
       "      <th>Neutral</th>\n",
       "      <th>Positive</th>\n",
       "    </tr>\n",
       "  </thead>\n",
       "  <tbody>\n",
       "    <tr>\n",
       "      <th>2001-01-02</th>\n",
       "      <td>3953.219971</td>\n",
       "      <td>4028.570068</td>\n",
       "      <td>3929.370117</td>\n",
       "      <td>4018.879883</td>\n",
       "      <td>0.0</td>\n",
       "      <td>0.0</td>\n",
       "      <td>0.0</td>\n",
       "      <td>Status quo will not be disturbed at Ayodhya; s...</td>\n",
       "      <td>-0.9621</td>\n",
       "      <td>0.119</td>\n",
       "      <td>0.817</td>\n",
       "      <td>0.064</td>\n",
       "    </tr>\n",
       "    <tr>\n",
       "      <th>2001-01-03</th>\n",
       "      <td>3977.580078</td>\n",
       "      <td>4067.659912</td>\n",
       "      <td>3977.580078</td>\n",
       "      <td>4060.020020</td>\n",
       "      <td>0.0</td>\n",
       "      <td>0.0</td>\n",
       "      <td>0.0</td>\n",
       "      <td>Powerless north India gropes in the dark,Think...</td>\n",
       "      <td>0.6322</td>\n",
       "      <td>0.084</td>\n",
       "      <td>0.817</td>\n",
       "      <td>0.098</td>\n",
       "    </tr>\n",
       "    <tr>\n",
       "      <th>2001-01-04</th>\n",
       "      <td>4180.970215</td>\n",
       "      <td>4180.970215</td>\n",
       "      <td>4109.549805</td>\n",
       "      <td>4115.370117</td>\n",
       "      <td>0.0</td>\n",
       "      <td>0.0</td>\n",
       "      <td>0.0</td>\n",
       "      <td>The string that pulled Stephen Hawking to Indi...</td>\n",
       "      <td>0.6648</td>\n",
       "      <td>0.077</td>\n",
       "      <td>0.843</td>\n",
       "      <td>0.080</td>\n",
       "    </tr>\n",
       "    <tr>\n",
       "      <th>2001-01-05</th>\n",
       "      <td>4116.339844</td>\n",
       "      <td>4195.009766</td>\n",
       "      <td>4115.350098</td>\n",
       "      <td>4183.729980</td>\n",
       "      <td>0.0</td>\n",
       "      <td>0.0</td>\n",
       "      <td>0.0</td>\n",
       "      <td>Light combat craft takes India into club class...</td>\n",
       "      <td>0.9253</td>\n",
       "      <td>0.104</td>\n",
       "      <td>0.744</td>\n",
       "      <td>0.152</td>\n",
       "    </tr>\n",
       "    <tr>\n",
       "      <th>2001-01-08</th>\n",
       "      <td>4164.759766</td>\n",
       "      <td>4206.720215</td>\n",
       "      <td>4101.529785</td>\n",
       "      <td>4120.430176</td>\n",
       "      <td>0.0</td>\n",
       "      <td>0.0</td>\n",
       "      <td>0.0</td>\n",
       "      <td>Sangh Parivar; Babri panel up the ante,Frontru...</td>\n",
       "      <td>-0.9638</td>\n",
       "      <td>0.119</td>\n",
       "      <td>0.855</td>\n",
       "      <td>0.026</td>\n",
       "    </tr>\n",
       "  </tbody>\n",
       "</table>\n",
       "</div>"
      ],
      "text/plain": [
       "                   Open         High          Low        Close  Volume  \\\n",
       "2001-01-02  3953.219971  4028.570068  3929.370117  4018.879883     0.0   \n",
       "2001-01-03  3977.580078  4067.659912  3977.580078  4060.020020     0.0   \n",
       "2001-01-04  4180.970215  4180.970215  4109.549805  4115.370117     0.0   \n",
       "2001-01-05  4116.339844  4195.009766  4115.350098  4183.729980     0.0   \n",
       "2001-01-08  4164.759766  4206.720215  4101.529785  4120.430176     0.0   \n",
       "\n",
       "            Dividends  Stock Splits  \\\n",
       "2001-01-02        0.0           0.0   \n",
       "2001-01-03        0.0           0.0   \n",
       "2001-01-04        0.0           0.0   \n",
       "2001-01-05        0.0           0.0   \n",
       "2001-01-08        0.0           0.0   \n",
       "\n",
       "                                                headline_text  Compound  \\\n",
       "2001-01-02  Status quo will not be disturbed at Ayodhya; s...   -0.9621   \n",
       "2001-01-03  Powerless north India gropes in the dark,Think...    0.6322   \n",
       "2001-01-04  The string that pulled Stephen Hawking to Indi...    0.6648   \n",
       "2001-01-05  Light combat craft takes India into club class...    0.9253   \n",
       "2001-01-08  Sangh Parivar; Babri panel up the ante,Frontru...   -0.9638   \n",
       "\n",
       "            Negative  Neutral  Positive  \n",
       "2001-01-02     0.119    0.817     0.064  \n",
       "2001-01-03     0.084    0.817     0.098  \n",
       "2001-01-04     0.077    0.843     0.080  \n",
       "2001-01-05     0.104    0.744     0.152  \n",
       "2001-01-08     0.119    0.855     0.026  "
      ]
     },
     "execution_count": 63,
     "metadata": {},
     "output_type": "execute_result"
    }
   ],
   "source": [
    "\n",
    "df_stock['Compound'] = [sid.polarity_scores(v)['compound'] for v in df_stock['headline_text']]\n",
    "df_stock['Negative'] = [sid.polarity_scores(v)['neg'] for v in df_stock['headline_text']]\n",
    "df_stock['Neutral'] = [sid.polarity_scores(v)['neu'] for v in df_stock['headline_text']]\n",
    "df_stock['Positive'] = [sid.polarity_scores(v)['pos'] for v in df_stock['headline_text']]\n",
    "df_stock.head()"
   ]
  },
  {
   "cell_type": "code",
   "execution_count": 64,
   "metadata": {},
   "outputs": [
    {
     "data": {
      "text/html": [
       "<div>\n",
       "<style scoped>\n",
       "    .dataframe tbody tr th:only-of-type {\n",
       "        vertical-align: middle;\n",
       "    }\n",
       "\n",
       "    .dataframe tbody tr th {\n",
       "        vertical-align: top;\n",
       "    }\n",
       "\n",
       "    .dataframe thead th {\n",
       "        text-align: right;\n",
       "    }\n",
       "</style>\n",
       "<table border=\"1\" class=\"dataframe\">\n",
       "  <thead>\n",
       "    <tr style=\"text-align: right;\">\n",
       "      <th></th>\n",
       "      <th>Open</th>\n",
       "      <th>High</th>\n",
       "      <th>Low</th>\n",
       "      <th>Close</th>\n",
       "      <th>Volume</th>\n",
       "      <th>Dividends</th>\n",
       "      <th>Stock Splits</th>\n",
       "      <th>headline_text</th>\n",
       "      <th>Compound</th>\n",
       "      <th>Negative</th>\n",
       "      <th>Neutral</th>\n",
       "      <th>Positive</th>\n",
       "    </tr>\n",
       "  </thead>\n",
       "  <tbody>\n",
       "    <tr>\n",
       "      <th>2001-01-02</th>\n",
       "      <td>3953.219971</td>\n",
       "      <td>4028.570068</td>\n",
       "      <td>3929.370117</td>\n",
       "      <td>4018.879883</td>\n",
       "      <td>0.0</td>\n",
       "      <td>0.0</td>\n",
       "      <td>0.0</td>\n",
       "      <td>Status quo will not be disturbed at Ayodhya; s...</td>\n",
       "      <td>-0.9621</td>\n",
       "      <td>0.119</td>\n",
       "      <td>0.817</td>\n",
       "      <td>0.064</td>\n",
       "    </tr>\n",
       "    <tr>\n",
       "      <th>2001-01-03</th>\n",
       "      <td>3977.580078</td>\n",
       "      <td>4067.659912</td>\n",
       "      <td>3977.580078</td>\n",
       "      <td>4060.020020</td>\n",
       "      <td>0.0</td>\n",
       "      <td>0.0</td>\n",
       "      <td>0.0</td>\n",
       "      <td>Powerless north India gropes in the dark,Think...</td>\n",
       "      <td>0.6322</td>\n",
       "      <td>0.084</td>\n",
       "      <td>0.817</td>\n",
       "      <td>0.098</td>\n",
       "    </tr>\n",
       "    <tr>\n",
       "      <th>2001-01-04</th>\n",
       "      <td>4180.970215</td>\n",
       "      <td>4180.970215</td>\n",
       "      <td>4109.549805</td>\n",
       "      <td>4115.370117</td>\n",
       "      <td>0.0</td>\n",
       "      <td>0.0</td>\n",
       "      <td>0.0</td>\n",
       "      <td>The string that pulled Stephen Hawking to Indi...</td>\n",
       "      <td>0.6648</td>\n",
       "      <td>0.077</td>\n",
       "      <td>0.843</td>\n",
       "      <td>0.080</td>\n",
       "    </tr>\n",
       "    <tr>\n",
       "      <th>2001-01-05</th>\n",
       "      <td>4116.339844</td>\n",
       "      <td>4195.009766</td>\n",
       "      <td>4115.350098</td>\n",
       "      <td>4183.729980</td>\n",
       "      <td>0.0</td>\n",
       "      <td>0.0</td>\n",
       "      <td>0.0</td>\n",
       "      <td>Light combat craft takes India into club class...</td>\n",
       "      <td>0.9253</td>\n",
       "      <td>0.104</td>\n",
       "      <td>0.744</td>\n",
       "      <td>0.152</td>\n",
       "    </tr>\n",
       "    <tr>\n",
       "      <th>2001-01-08</th>\n",
       "      <td>4164.759766</td>\n",
       "      <td>4206.720215</td>\n",
       "      <td>4101.529785</td>\n",
       "      <td>4120.430176</td>\n",
       "      <td>0.0</td>\n",
       "      <td>0.0</td>\n",
       "      <td>0.0</td>\n",
       "      <td>Sangh Parivar; Babri panel up the ante,Frontru...</td>\n",
       "      <td>-0.9638</td>\n",
       "      <td>0.119</td>\n",
       "      <td>0.855</td>\n",
       "      <td>0.026</td>\n",
       "    </tr>\n",
       "  </tbody>\n",
       "</table>\n",
       "</div>"
      ],
      "text/plain": [
       "                   Open         High          Low        Close  Volume  \\\n",
       "2001-01-02  3953.219971  4028.570068  3929.370117  4018.879883     0.0   \n",
       "2001-01-03  3977.580078  4067.659912  3977.580078  4060.020020     0.0   \n",
       "2001-01-04  4180.970215  4180.970215  4109.549805  4115.370117     0.0   \n",
       "2001-01-05  4116.339844  4195.009766  4115.350098  4183.729980     0.0   \n",
       "2001-01-08  4164.759766  4206.720215  4101.529785  4120.430176     0.0   \n",
       "\n",
       "            Dividends  Stock Splits  \\\n",
       "2001-01-02        0.0           0.0   \n",
       "2001-01-03        0.0           0.0   \n",
       "2001-01-04        0.0           0.0   \n",
       "2001-01-05        0.0           0.0   \n",
       "2001-01-08        0.0           0.0   \n",
       "\n",
       "                                                headline_text  Compound  \\\n",
       "2001-01-02  Status quo will not be disturbed at Ayodhya; s...   -0.9621   \n",
       "2001-01-03  Powerless north India gropes in the dark,Think...    0.6322   \n",
       "2001-01-04  The string that pulled Stephen Hawking to Indi...    0.6648   \n",
       "2001-01-05  Light combat craft takes India into club class...    0.9253   \n",
       "2001-01-08  Sangh Parivar; Babri panel up the ante,Frontru...   -0.9638   \n",
       "\n",
       "            Negative  Neutral  Positive  \n",
       "2001-01-02     0.119    0.817     0.064  \n",
       "2001-01-03     0.084    0.817     0.098  \n",
       "2001-01-04     0.077    0.843     0.080  \n",
       "2001-01-05     0.104    0.744     0.152  \n",
       "2001-01-08     0.119    0.855     0.026  "
      ]
     },
     "execution_count": 64,
     "metadata": {},
     "output_type": "execute_result"
    }
   ],
   "source": [
    "df_stock.head()"
   ]
  },
  {
   "cell_type": "code",
   "execution_count": 69,
   "metadata": {},
   "outputs": [
    {
     "data": {
      "text/html": [
       "<div>\n",
       "<style scoped>\n",
       "    .dataframe tbody tr th:only-of-type {\n",
       "        vertical-align: middle;\n",
       "    }\n",
       "\n",
       "    .dataframe tbody tr th {\n",
       "        vertical-align: top;\n",
       "    }\n",
       "\n",
       "    .dataframe thead th {\n",
       "        text-align: right;\n",
       "    }\n",
       "</style>\n",
       "<table border=\"1\" class=\"dataframe\">\n",
       "  <thead>\n",
       "    <tr style=\"text-align: right;\">\n",
       "      <th></th>\n",
       "      <th>Close</th>\n",
       "      <th>Compound</th>\n",
       "      <th>Negative</th>\n",
       "      <th>Neutral</th>\n",
       "      <th>Positive</th>\n",
       "      <th>Open</th>\n",
       "      <th>High</th>\n",
       "      <th>Low</th>\n",
       "      <th>Volume</th>\n",
       "    </tr>\n",
       "  </thead>\n",
       "  <tbody>\n",
       "    <tr>\n",
       "      <th>2001-01-02</th>\n",
       "      <td>4018.879883</td>\n",
       "      <td>-0.9621</td>\n",
       "      <td>0.119</td>\n",
       "      <td>0.817</td>\n",
       "      <td>0.064</td>\n",
       "      <td>3953.219971</td>\n",
       "      <td>4028.570068</td>\n",
       "      <td>3929.370117</td>\n",
       "      <td>0.0</td>\n",
       "    </tr>\n",
       "    <tr>\n",
       "      <th>2001-01-03</th>\n",
       "      <td>4060.020020</td>\n",
       "      <td>0.6322</td>\n",
       "      <td>0.084</td>\n",
       "      <td>0.817</td>\n",
       "      <td>0.098</td>\n",
       "      <td>3977.580078</td>\n",
       "      <td>4067.659912</td>\n",
       "      <td>3977.580078</td>\n",
       "      <td>0.0</td>\n",
       "    </tr>\n",
       "    <tr>\n",
       "      <th>2001-01-04</th>\n",
       "      <td>4115.370117</td>\n",
       "      <td>0.6648</td>\n",
       "      <td>0.077</td>\n",
       "      <td>0.843</td>\n",
       "      <td>0.080</td>\n",
       "      <td>4180.970215</td>\n",
       "      <td>4180.970215</td>\n",
       "      <td>4109.549805</td>\n",
       "      <td>0.0</td>\n",
       "    </tr>\n",
       "    <tr>\n",
       "      <th>2001-01-05</th>\n",
       "      <td>4183.729980</td>\n",
       "      <td>0.9253</td>\n",
       "      <td>0.104</td>\n",
       "      <td>0.744</td>\n",
       "      <td>0.152</td>\n",
       "      <td>4116.339844</td>\n",
       "      <td>4195.009766</td>\n",
       "      <td>4115.350098</td>\n",
       "      <td>0.0</td>\n",
       "    </tr>\n",
       "    <tr>\n",
       "      <th>2001-01-08</th>\n",
       "      <td>4120.430176</td>\n",
       "      <td>-0.9638</td>\n",
       "      <td>0.119</td>\n",
       "      <td>0.855</td>\n",
       "      <td>0.026</td>\n",
       "      <td>4164.759766</td>\n",
       "      <td>4206.720215</td>\n",
       "      <td>4101.529785</td>\n",
       "      <td>0.0</td>\n",
       "    </tr>\n",
       "  </tbody>\n",
       "</table>\n",
       "</div>"
      ],
      "text/plain": [
       "                  Close  Compound  Negative  Neutral  Positive         Open  \\\n",
       "2001-01-02  4018.879883   -0.9621     0.119    0.817     0.064  3953.219971   \n",
       "2001-01-03  4060.020020    0.6322     0.084    0.817     0.098  3977.580078   \n",
       "2001-01-04  4115.370117    0.6648     0.077    0.843     0.080  4180.970215   \n",
       "2001-01-05  4183.729980    0.9253     0.104    0.744     0.152  4116.339844   \n",
       "2001-01-08  4120.430176   -0.9638     0.119    0.855     0.026  4164.759766   \n",
       "\n",
       "                   High          Low  Volume  \n",
       "2001-01-02  4028.570068  3929.370117     0.0  \n",
       "2001-01-03  4067.659912  3977.580078     0.0  \n",
       "2001-01-04  4180.970215  4109.549805     0.0  \n",
       "2001-01-05  4195.009766  4115.350098     0.0  \n",
       "2001-01-08  4206.720215  4101.529785     0.0  "
      ]
     },
     "execution_count": 69,
     "metadata": {},
     "output_type": "execute_result"
    }
   ],
   "source": [
    "#Removing headline data\n",
    "\n",
    "#df_stock.drop((['headline_text']), axis=1, inplace=True)\n",
    "df_stock1 = df_stock[['Close', 'Compound', 'Negative', 'Neutral', 'Positive', 'Open', 'High', 'Low', 'Volume']]\n",
    "df_stock1.head()"
   ]
  },
  {
   "cell_type": "code",
   "execution_count": 70,
   "metadata": {},
   "outputs": [],
   "source": [
    "#Saving the compiled dataframe in a excel sheet that can be used later\n",
    "\n",
    "df_stock1.to_csv('stock_data.csv')"
   ]
  },
  {
   "cell_type": "code",
   "execution_count": 73,
   "metadata": {},
   "outputs": [
    {
     "data": {
      "text/html": [
       "<div>\n",
       "<style scoped>\n",
       "    .dataframe tbody tr th:only-of-type {\n",
       "        vertical-align: middle;\n",
       "    }\n",
       "\n",
       "    .dataframe tbody tr th {\n",
       "        vertical-align: top;\n",
       "    }\n",
       "\n",
       "    .dataframe thead th {\n",
       "        text-align: right;\n",
       "    }\n",
       "</style>\n",
       "<table border=\"1\" class=\"dataframe\">\n",
       "  <thead>\n",
       "    <tr style=\"text-align: right;\">\n",
       "      <th></th>\n",
       "      <th>Close</th>\n",
       "      <th>Compound</th>\n",
       "      <th>Negative</th>\n",
       "      <th>Neutral</th>\n",
       "      <th>Positive</th>\n",
       "      <th>Open</th>\n",
       "      <th>High</th>\n",
       "      <th>Low</th>\n",
       "      <th>Volume</th>\n",
       "    </tr>\n",
       "    <tr>\n",
       "      <th>Date</th>\n",
       "      <th></th>\n",
       "      <th></th>\n",
       "      <th></th>\n",
       "      <th></th>\n",
       "      <th></th>\n",
       "      <th></th>\n",
       "      <th></th>\n",
       "      <th></th>\n",
       "      <th></th>\n",
       "    </tr>\n",
       "  </thead>\n",
       "  <tbody>\n",
       "    <tr>\n",
       "      <th>2001-01-02</th>\n",
       "      <td>4018.879883</td>\n",
       "      <td>-0.9621</td>\n",
       "      <td>0.119</td>\n",
       "      <td>0.817</td>\n",
       "      <td>0.064</td>\n",
       "      <td>3953.219971</td>\n",
       "      <td>4028.570068</td>\n",
       "      <td>3929.370117</td>\n",
       "      <td>0.0</td>\n",
       "    </tr>\n",
       "    <tr>\n",
       "      <th>2001-01-03</th>\n",
       "      <td>4060.020020</td>\n",
       "      <td>0.6322</td>\n",
       "      <td>0.084</td>\n",
       "      <td>0.817</td>\n",
       "      <td>0.098</td>\n",
       "      <td>3977.580078</td>\n",
       "      <td>4067.659912</td>\n",
       "      <td>3977.580078</td>\n",
       "      <td>0.0</td>\n",
       "    </tr>\n",
       "    <tr>\n",
       "      <th>2001-01-04</th>\n",
       "      <td>4115.370117</td>\n",
       "      <td>0.6648</td>\n",
       "      <td>0.077</td>\n",
       "      <td>0.843</td>\n",
       "      <td>0.080</td>\n",
       "      <td>4180.970215</td>\n",
       "      <td>4180.970215</td>\n",
       "      <td>4109.549805</td>\n",
       "      <td>0.0</td>\n",
       "    </tr>\n",
       "    <tr>\n",
       "      <th>2001-01-05</th>\n",
       "      <td>4183.729980</td>\n",
       "      <td>0.9253</td>\n",
       "      <td>0.104</td>\n",
       "      <td>0.744</td>\n",
       "      <td>0.152</td>\n",
       "      <td>4116.339844</td>\n",
       "      <td>4195.009766</td>\n",
       "      <td>4115.350098</td>\n",
       "      <td>0.0</td>\n",
       "    </tr>\n",
       "    <tr>\n",
       "      <th>2001-01-08</th>\n",
       "      <td>4120.430176</td>\n",
       "      <td>-0.9638</td>\n",
       "      <td>0.119</td>\n",
       "      <td>0.855</td>\n",
       "      <td>0.026</td>\n",
       "      <td>4164.759766</td>\n",
       "      <td>4206.720215</td>\n",
       "      <td>4101.529785</td>\n",
       "      <td>0.0</td>\n",
       "    </tr>\n",
       "  </tbody>\n",
       "</table>\n",
       "</div>"
      ],
      "text/plain": [
       "                  Close  Compound  Negative  Neutral  Positive         Open  \\\n",
       "Date                                                                          \n",
       "2001-01-02  4018.879883   -0.9621     0.119    0.817     0.064  3953.219971   \n",
       "2001-01-03  4060.020020    0.6322     0.084    0.817     0.098  3977.580078   \n",
       "2001-01-04  4115.370117    0.6648     0.077    0.843     0.080  4180.970215   \n",
       "2001-01-05  4183.729980    0.9253     0.104    0.744     0.152  4116.339844   \n",
       "2001-01-08  4120.430176   -0.9638     0.119    0.855     0.026  4164.759766   \n",
       "\n",
       "                   High          Low  Volume  \n",
       "Date                                          \n",
       "2001-01-02  4028.570068  3929.370117     0.0  \n",
       "2001-01-03  4067.659912  3977.580078     0.0  \n",
       "2001-01-04  4180.970215  4109.549805     0.0  \n",
       "2001-01-05  4195.009766  4115.350098     0.0  \n",
       "2001-01-08  4206.720215  4101.529785     0.0  "
      ]
     },
     "execution_count": 73,
     "metadata": {},
     "output_type": "execute_result"
    }
   ],
   "source": [
    "#Reading the stock_data \n",
    " # it takes a lot of time everytime to generate the sentiment analysis report\n",
    "stock_file=pd.read_csv('stock_data.csv')\n",
    "stock_file.rename(columns={'Unnamed: 0':'Date'}, inplace = True)\n",
    "stock_file.set_index('Date', inplace=True)\n",
    "stock_file.head()"
   ]
  },
  {
   "cell_type": "code",
   "execution_count": 75,
   "metadata": {},
   "outputs": [
    {
     "data": {
      "text/plain": [
       "Close       False\n",
       "Compound    False\n",
       "Negative    False\n",
       "Neutral     False\n",
       "Positive    False\n",
       "Open        False\n",
       "High        False\n",
       "Low         False\n",
       "Volume      False\n",
       "dtype: bool"
      ]
     },
     "execution_count": 75,
     "metadata": {},
     "output_type": "execute_result"
    }
   ],
   "source": [
    "stock_file.isna().any()"
   ]
  },
  {
   "cell_type": "code",
   "execution_count": 76,
   "metadata": {},
   "outputs": [
    {
     "name": "stdout",
     "output_type": "stream",
     "text": [
      "<class 'pandas.core.frame.DataFrame'>\n",
      "Index: 4893 entries, 2001-01-02 to 2020-12-31\n",
      "Data columns (total 9 columns):\n",
      " #   Column    Non-Null Count  Dtype  \n",
      "---  ------    --------------  -----  \n",
      " 0   Close     4893 non-null   float64\n",
      " 1   Compound  4893 non-null   float64\n",
      " 2   Negative  4893 non-null   float64\n",
      " 3   Neutral   4893 non-null   float64\n",
      " 4   Positive  4893 non-null   float64\n",
      " 5   Open      4893 non-null   float64\n",
      " 6   High      4893 non-null   float64\n",
      " 7   Low       4893 non-null   float64\n",
      " 8   Volume    4893 non-null   float64\n",
      "dtypes: float64(9)\n",
      "memory usage: 382.3+ KB\n"
     ]
    }
   ],
   "source": [
    "stock_file.info()"
   ]
  },
  {
   "cell_type": "code",
   "execution_count": 79,
   "metadata": {},
   "outputs": [
    {
     "data": {
      "text/plain": [
       "<matplotlib.legend.Legend at 0x2444e0eca00>"
      ]
     },
     "execution_count": 79,
     "metadata": {},
     "output_type": "execute_result"
    },
    {
     "data": {
      "image/png": "[encoded data removed]",
      "text/plain": [
       "<Figure size 1080x504 with 1 Axes>"
      ]
     },
     "metadata": {
      "needs_background": "light"
     },
     "output_type": "display_data"
    }
   ],
   "source": [
    "#Visualing the close price over the period of analysis\n",
    "\n",
    "plt.figure(figsize=(15,7))\n",
    "stock_file['Close'].plot(label='SENSEX')\n",
    "plt.title(\"SENSEX Close Price\")\n",
    "plt.xlabel('Date')\n",
    "plt.ylabel('Close Price')\n",
    "plt.legend()"
   ]
  },
  {
   "cell_type": "code",
   "execution_count": 84,
   "metadata": {},
   "outputs": [
    {
     "name": "stdout",
     "output_type": "stream",
     "text": [
      "Number of records in Training Data: 3913\n",
      "Number of records in Test Data: 980\n"
     ]
    }
   ],
   "source": [
    "    #Calculating the number of datapoints for training and testing\n",
    "percentage_of_data = 1.0 #all data??\n",
    "    \n",
    "total_data = len(stock_file)\n",
    "data_to_use = int(percentage_of_data*(total_data-1))\n",
    "\n",
    "train_end = int(data_to_use*0.8)\n",
    "   \n",
    "start = total_data - data_to_use\n",
    "\n",
    "print(\"Number of records in Training Data:\", train_end)\n",
    "print(\"Number of records in Test Data:\", total_data - train_end)"
   ]
  },
  {
   "cell_type": "code",
   "execution_count": 86,
   "metadata": {},
   "outputs": [
    {
     "name": "stdout",
     "output_type": "stream",
     "text": [
      "Close Price:\n"
     ]
    },
    {
     "data": {
      "text/plain": [
       "Date\n",
       "2001-01-03     4060.020020\n",
       "2001-01-04     4115.370117\n",
       "2001-01-05     4183.729980\n",
       "2001-01-08     4120.430176\n",
       "2001-01-09     4125.310059\n",
       "                  ...     \n",
       "2020-12-24    46973.539062\n",
       "2020-12-28    47353.750000\n",
       "2020-12-29    47613.078125\n",
       "2020-12-30    47746.218750\n",
       "2020-12-31    47751.328125\n",
       "Name: Close, Length: 4892, dtype: float64"
      ]
     },
     "execution_count": 86,
     "metadata": {},
     "output_type": "execute_result"
    }
   ],
   "source": [
    "#Allocating the datapoints for each column\n",
    "\n",
    "steps_to_predict = 1\n",
    "\n",
    "close_price = stock_file.iloc[start:total_data,0]        \n",
    "compound = stock_file.iloc[start:total_data,1]           \n",
    "negative = stock_file.iloc[start:total_data,2]           \n",
    "neutral = stock_file.iloc[start:total_data,3]            \n",
    "positive = stock_file.iloc[start:total_data,4]           \n",
    "open_price = stock_file.iloc[start:total_data,5]         \n",
    "high = stock_file.iloc[start:total_data,6]               \n",
    "low = stock_file.iloc[start:total_data,7]                \n",
    "volume = stock_file.iloc[start:total_data,8]             \n",
    "\n",
    "print(\"Close Price:\")\n",
    "close_price"
   ]
  },
  {
   "cell_type": "code",
   "execution_count": 87,
   "metadata": {},
   "outputs": [
    {
     "data": {
      "text/html": [
       "<div>\n",
       "<style scoped>\n",
       "    .dataframe tbody tr th:only-of-type {\n",
       "        vertical-align: middle;\n",
       "    }\n",
       "\n",
       "    .dataframe tbody tr th {\n",
       "        vertical-align: top;\n",
       "    }\n",
       "\n",
       "    .dataframe thead th {\n",
       "        text-align: right;\n",
       "    }\n",
       "</style>\n",
       "<table border=\"1\" class=\"dataframe\">\n",
       "  <thead>\n",
       "    <tr style=\"text-align: right;\">\n",
       "      <th></th>\n",
       "      <th>close_price</th>\n",
       "      <th>close_price_shifted</th>\n",
       "      <th>compound</th>\n",
       "      <th>compound_shifted</th>\n",
       "      <th>volume</th>\n",
       "      <th>open_price</th>\n",
       "      <th>high</th>\n",
       "      <th>low</th>\n",
       "    </tr>\n",
       "    <tr>\n",
       "      <th>Date</th>\n",
       "      <th></th>\n",
       "      <th></th>\n",
       "      <th></th>\n",
       "      <th></th>\n",
       "      <th></th>\n",
       "      <th></th>\n",
       "      <th></th>\n",
       "      <th></th>\n",
       "    </tr>\n",
       "  </thead>\n",
       "  <tbody>\n",
       "    <tr>\n",
       "      <th>2001-01-03</th>\n",
       "      <td>4060.020020</td>\n",
       "      <td>4115.370117</td>\n",
       "      <td>0.6322</td>\n",
       "      <td>0.6648</td>\n",
       "      <td>0.0</td>\n",
       "      <td>3977.580078</td>\n",
       "      <td>4067.659912</td>\n",
       "      <td>3977.580078</td>\n",
       "    </tr>\n",
       "    <tr>\n",
       "      <th>2001-01-04</th>\n",
       "      <td>4115.370117</td>\n",
       "      <td>4183.729980</td>\n",
       "      <td>0.6648</td>\n",
       "      <td>0.9253</td>\n",
       "      <td>0.0</td>\n",
       "      <td>4180.970215</td>\n",
       "      <td>4180.970215</td>\n",
       "      <td>4109.549805</td>\n",
       "    </tr>\n",
       "    <tr>\n",
       "      <th>2001-01-05</th>\n",
       "      <td>4183.729980</td>\n",
       "      <td>4120.430176</td>\n",
       "      <td>0.9253</td>\n",
       "      <td>-0.9638</td>\n",
       "      <td>0.0</td>\n",
       "      <td>4116.339844</td>\n",
       "      <td>4195.009766</td>\n",
       "      <td>4115.350098</td>\n",
       "    </tr>\n",
       "    <tr>\n",
       "      <th>2001-01-08</th>\n",
       "      <td>4120.430176</td>\n",
       "      <td>4125.310059</td>\n",
       "      <td>-0.9638</td>\n",
       "      <td>-0.9559</td>\n",
       "      <td>0.0</td>\n",
       "      <td>4164.759766</td>\n",
       "      <td>4206.720215</td>\n",
       "      <td>4101.529785</td>\n",
       "    </tr>\n",
       "    <tr>\n",
       "      <th>2001-01-09</th>\n",
       "      <td>4125.310059</td>\n",
       "      <td>4047.639893</td>\n",
       "      <td>-0.9559</td>\n",
       "      <td>-0.5719</td>\n",
       "      <td>0.0</td>\n",
       "      <td>4114.740234</td>\n",
       "      <td>4166.839844</td>\n",
       "      <td>4101.009766</td>\n",
       "    </tr>\n",
       "    <tr>\n",
       "      <th>2001-01-10</th>\n",
       "      <td>4047.639893</td>\n",
       "      <td>4296.689941</td>\n",
       "      <td>-0.5719</td>\n",
       "      <td>0.9295</td>\n",
       "      <td>0.0</td>\n",
       "      <td>4151.580078</td>\n",
       "      <td>4155.859863</td>\n",
       "      <td>4035.439941</td>\n",
       "    </tr>\n",
       "    <tr>\n",
       "      <th>2001-01-23</th>\n",
       "      <td>4296.689941</td>\n",
       "      <td>4326.419922</td>\n",
       "      <td>0.9295</td>\n",
       "      <td>-0.9039</td>\n",
       "      <td>0.0</td>\n",
       "      <td>4277.830078</td>\n",
       "      <td>4321.750000</td>\n",
       "      <td>4272.870117</td>\n",
       "    </tr>\n",
       "    <tr>\n",
       "      <th>2001-01-24</th>\n",
       "      <td>4326.419922</td>\n",
       "      <td>4330.220215</td>\n",
       "      <td>-0.9039</td>\n",
       "      <td>-0.9838</td>\n",
       "      <td>0.0</td>\n",
       "      <td>4320.509766</td>\n",
       "      <td>4339.410156</td>\n",
       "      <td>4295.709961</td>\n",
       "    </tr>\n",
       "    <tr>\n",
       "      <th>2001-01-25</th>\n",
       "      <td>4330.220215</td>\n",
       "      <td>4234.569824</td>\n",
       "      <td>-0.9838</td>\n",
       "      <td>0.9697</td>\n",
       "      <td>0.0</td>\n",
       "      <td>4327.839844</td>\n",
       "      <td>4341.330078</td>\n",
       "      <td>4273.700195</td>\n",
       "    </tr>\n",
       "    <tr>\n",
       "      <th>2001-01-29</th>\n",
       "      <td>4234.569824</td>\n",
       "      <td>4372.040039</td>\n",
       "      <td>0.9697</td>\n",
       "      <td>-0.8580</td>\n",
       "      <td>0.0</td>\n",
       "      <td>4158.859863</td>\n",
       "      <td>4262.759766</td>\n",
       "      <td>4158.859863</td>\n",
       "    </tr>\n",
       "  </tbody>\n",
       "</table>\n",
       "</div>"
      ],
      "text/plain": [
       "            close_price  close_price_shifted  compound  compound_shifted  \\\n",
       "Date                                                                       \n",
       "2001-01-03  4060.020020          4115.370117    0.6322            0.6648   \n",
       "2001-01-04  4115.370117          4183.729980    0.6648            0.9253   \n",
       "2001-01-05  4183.729980          4120.430176    0.9253           -0.9638   \n",
       "2001-01-08  4120.430176          4125.310059   -0.9638           -0.9559   \n",
       "2001-01-09  4125.310059          4047.639893   -0.9559           -0.5719   \n",
       "2001-01-10  4047.639893          4296.689941   -0.5719            0.9295   \n",
       "2001-01-23  4296.689941          4326.419922    0.9295           -0.9039   \n",
       "2001-01-24  4326.419922          4330.220215   -0.9039           -0.9838   \n",
       "2001-01-25  4330.220215          4234.569824   -0.9838            0.9697   \n",
       "2001-01-29  4234.569824          4372.040039    0.9697           -0.8580   \n",
       "\n",
       "            volume   open_price         high          low  \n",
       "Date                                                       \n",
       "2001-01-03     0.0  3977.580078  4067.659912  3977.580078  \n",
       "2001-01-04     0.0  4180.970215  4180.970215  4109.549805  \n",
       "2001-01-05     0.0  4116.339844  4195.009766  4115.350098  \n",
       "2001-01-08     0.0  4164.759766  4206.720215  4101.529785  \n",
       "2001-01-09     0.0  4114.740234  4166.839844  4101.009766  \n",
       "2001-01-10     0.0  4151.580078  4155.859863  4035.439941  \n",
       "2001-01-23     0.0  4277.830078  4321.750000  4272.870117  \n",
       "2001-01-24     0.0  4320.509766  4339.410156  4295.709961  \n",
       "2001-01-25     0.0  4327.839844  4341.330078  4273.700195  \n",
       "2001-01-29     0.0  4158.859863  4262.759766  4158.859863  "
      ]
     },
     "execution_count": 87,
     "metadata": {},
     "output_type": "execute_result"
    }
   ],
   "source": [
    "# shifting next day close .....yesterdays data will be used for next day\n",
    "close_price_shifted = close_price.shift(-1) \n",
    "\n",
    "# shifting next day compound\n",
    "compound_shifted = compound.shift(-1) \n",
    "\n",
    "# concatenating the captured training data into a dataframe\n",
    "data = pd.concat([close_price, close_price_shifted, compound, compound_shifted, volume, open_price, high, low], axis=1)\n",
    "\n",
    "# setting column names of the revised stock data\n",
    "data.columns = ['close_price', 'close_price_shifted', 'compound', 'compound_shifted','volume', 'open_price', 'high', 'low']\n",
    "\n",
    "data = data.dropna()    \n",
    "data.head(10)"
   ]
  },
  {
   "cell_type": "code",
   "execution_count": 88,
   "metadata": {},
   "outputs": [
    {
     "data": {
      "text/plain": [
       "Date\n",
       "2001-01-03     4115.370117\n",
       "2001-01-04     4183.729980\n",
       "2001-01-05     4120.430176\n",
       "2001-01-08     4125.310059\n",
       "2001-01-09     4047.639893\n",
       "                  ...     \n",
       "2020-12-23    46973.539062\n",
       "2020-12-24    47353.750000\n",
       "2020-12-28    47613.078125\n",
       "2020-12-29    47746.218750\n",
       "2020-12-30    47751.328125\n",
       "Name: close_price_shifted, Length: 4891, dtype: float64"
      ]
     },
     "execution_count": 88,
     "metadata": {},
     "output_type": "execute_result"
    }
   ],
   "source": [
    "# setting the target variable as the shifted close_price\n",
    "\n",
    "y = data['close_price_shifted']\n",
    "y"
   ]
  },
  {
   "cell_type": "code",
   "execution_count": 89,
   "metadata": {},
   "outputs": [
    {
     "data": {
      "text/html": [
       "<div>\n",
       "<style scoped>\n",
       "    .dataframe tbody tr th:only-of-type {\n",
       "        vertical-align: middle;\n",
       "    }\n",
       "\n",
       "    .dataframe tbody tr th {\n",
       "        vertical-align: top;\n",
       "    }\n",
       "\n",
       "    .dataframe thead th {\n",
       "        text-align: right;\n",
       "    }\n",
       "</style>\n",
       "<table border=\"1\" class=\"dataframe\">\n",
       "  <thead>\n",
       "    <tr style=\"text-align: right;\">\n",
       "      <th></th>\n",
       "      <th>close_price</th>\n",
       "      <th>compound</th>\n",
       "      <th>compound_shifted</th>\n",
       "      <th>volume</th>\n",
       "      <th>open_price</th>\n",
       "      <th>high</th>\n",
       "      <th>low</th>\n",
       "    </tr>\n",
       "    <tr>\n",
       "      <th>Date</th>\n",
       "      <th></th>\n",
       "      <th></th>\n",
       "      <th></th>\n",
       "      <th></th>\n",
       "      <th></th>\n",
       "      <th></th>\n",
       "      <th></th>\n",
       "    </tr>\n",
       "  </thead>\n",
       "  <tbody>\n",
       "    <tr>\n",
       "      <th>2001-01-03</th>\n",
       "      <td>4060.020020</td>\n",
       "      <td>0.6322</td>\n",
       "      <td>0.6648</td>\n",
       "      <td>0.0</td>\n",
       "      <td>3977.580078</td>\n",
       "      <td>4067.659912</td>\n",
       "      <td>3977.580078</td>\n",
       "    </tr>\n",
       "    <tr>\n",
       "      <th>2001-01-04</th>\n",
       "      <td>4115.370117</td>\n",
       "      <td>0.6648</td>\n",
       "      <td>0.9253</td>\n",
       "      <td>0.0</td>\n",
       "      <td>4180.970215</td>\n",
       "      <td>4180.970215</td>\n",
       "      <td>4109.549805</td>\n",
       "    </tr>\n",
       "    <tr>\n",
       "      <th>2001-01-05</th>\n",
       "      <td>4183.729980</td>\n",
       "      <td>0.9253</td>\n",
       "      <td>-0.9638</td>\n",
       "      <td>0.0</td>\n",
       "      <td>4116.339844</td>\n",
       "      <td>4195.009766</td>\n",
       "      <td>4115.350098</td>\n",
       "    </tr>\n",
       "    <tr>\n",
       "      <th>2001-01-08</th>\n",
       "      <td>4120.430176</td>\n",
       "      <td>-0.9638</td>\n",
       "      <td>-0.9559</td>\n",
       "      <td>0.0</td>\n",
       "      <td>4164.759766</td>\n",
       "      <td>4206.720215</td>\n",
       "      <td>4101.529785</td>\n",
       "    </tr>\n",
       "    <tr>\n",
       "      <th>2001-01-09</th>\n",
       "      <td>4125.310059</td>\n",
       "      <td>-0.9559</td>\n",
       "      <td>-0.5719</td>\n",
       "      <td>0.0</td>\n",
       "      <td>4114.740234</td>\n",
       "      <td>4166.839844</td>\n",
       "      <td>4101.009766</td>\n",
       "    </tr>\n",
       "    <tr>\n",
       "      <th>...</th>\n",
       "      <td>...</td>\n",
       "      <td>...</td>\n",
       "      <td>...</td>\n",
       "      <td>...</td>\n",
       "      <td>...</td>\n",
       "      <td>...</td>\n",
       "      <td>...</td>\n",
       "    </tr>\n",
       "    <tr>\n",
       "      <th>2020-12-23</th>\n",
       "      <td>46444.179688</td>\n",
       "      <td>-0.9996</td>\n",
       "      <td>-0.9971</td>\n",
       "      <td>10500.0</td>\n",
       "      <td>46072.300781</td>\n",
       "      <td>46513.320312</td>\n",
       "      <td>45899.101562</td>\n",
       "    </tr>\n",
       "    <tr>\n",
       "      <th>2020-12-24</th>\n",
       "      <td>46973.539062</td>\n",
       "      <td>-0.9971</td>\n",
       "      <td>-0.9997</td>\n",
       "      <td>13700.0</td>\n",
       "      <td>46743.488281</td>\n",
       "      <td>47053.398438</td>\n",
       "      <td>46539.019531</td>\n",
       "    </tr>\n",
       "    <tr>\n",
       "      <th>2020-12-28</th>\n",
       "      <td>47353.750000</td>\n",
       "      <td>-0.9997</td>\n",
       "      <td>-0.9998</td>\n",
       "      <td>9600.0</td>\n",
       "      <td>47153.589844</td>\n",
       "      <td>47406.718750</td>\n",
       "      <td>47148.238281</td>\n",
       "    </tr>\n",
       "    <tr>\n",
       "      <th>2020-12-29</th>\n",
       "      <td>47613.078125</td>\n",
       "      <td>-0.9998</td>\n",
       "      <td>-0.9998</td>\n",
       "      <td>12800.0</td>\n",
       "      <td>47466.621094</td>\n",
       "      <td>47714.550781</td>\n",
       "      <td>47361.898438</td>\n",
       "    </tr>\n",
       "    <tr>\n",
       "      <th>2020-12-30</th>\n",
       "      <td>47746.218750</td>\n",
       "      <td>-0.9998</td>\n",
       "      <td>-0.9996</td>\n",
       "      <td>15600.0</td>\n",
       "      <td>47789.031250</td>\n",
       "      <td>47807.851562</td>\n",
       "      <td>47358.359375</td>\n",
       "    </tr>\n",
       "  </tbody>\n",
       "</table>\n",
       "<p>4891 rows × 7 columns</p>\n",
       "</div>"
      ],
      "text/plain": [
       "             close_price  compound  compound_shifted   volume    open_price  \\\n",
       "Date                                                                          \n",
       "2001-01-03   4060.020020    0.6322            0.6648      0.0   3977.580078   \n",
       "2001-01-04   4115.370117    0.6648            0.9253      0.0   4180.970215   \n",
       "2001-01-05   4183.729980    0.9253           -0.9638      0.0   4116.339844   \n",
       "2001-01-08   4120.430176   -0.9638           -0.9559      0.0   4164.759766   \n",
       "2001-01-09   4125.310059   -0.9559           -0.5719      0.0   4114.740234   \n",
       "...                  ...       ...               ...      ...           ...   \n",
       "2020-12-23  46444.179688   -0.9996           -0.9971  10500.0  46072.300781   \n",
       "2020-12-24  46973.539062   -0.9971           -0.9997  13700.0  46743.488281   \n",
       "2020-12-28  47353.750000   -0.9997           -0.9998   9600.0  47153.589844   \n",
       "2020-12-29  47613.078125   -0.9998           -0.9998  12800.0  47466.621094   \n",
       "2020-12-30  47746.218750   -0.9998           -0.9996  15600.0  47789.031250   \n",
       "\n",
       "                    high           low  \n",
       "Date                                    \n",
       "2001-01-03   4067.659912   3977.580078  \n",
       "2001-01-04   4180.970215   4109.549805  \n",
       "2001-01-05   4195.009766   4115.350098  \n",
       "2001-01-08   4206.720215   4101.529785  \n",
       "2001-01-09   4166.839844   4101.009766  \n",
       "...                  ...           ...  \n",
       "2020-12-23  46513.320312  45899.101562  \n",
       "2020-12-24  47053.398438  46539.019531  \n",
       "2020-12-28  47406.718750  47148.238281  \n",
       "2020-12-29  47714.550781  47361.898438  \n",
       "2020-12-30  47807.851562  47358.359375  \n",
       "\n",
       "[4891 rows x 7 columns]"
      ]
     },
     "execution_count": 89,
     "metadata": {},
     "output_type": "execute_result"
    }
   ],
   "source": [
    "# setting the future dataset for training the model\n",
    "\n",
    "cols = ['close_price', 'compound', 'compound_shifted', 'volume', 'open_price', 'high', 'low']\n",
    "x = data[cols]\n",
    "x"
   ]
  },
  {
   "cell_type": "code",
   "execution_count": 92,
   "metadata": {},
   "outputs": [
    {
     "data": {
      "text/plain": [
       "(array([[-0.93532553,  0.6322    ,  0.6648    , ..., -0.93997007,\n",
       "         -0.93861222, -0.93822641],\n",
       "        [-0.93287349,  0.6648    ,  0.9253    , ..., -0.93096396,\n",
       "         -0.93359019, -0.93233057],\n",
       "        [-0.92984511,  0.9253    , -0.9638    , ..., -0.93382579,\n",
       "         -0.93296794, -0.93207144],\n",
       "        ...,\n",
       "        [ 0.98261339, -0.9997    , -0.9998    , ...,  0.97186267,\n",
       "          0.98222136,  0.99045457],\n",
       "        [ 0.99410179, -0.9998    , -0.9998    , ...,  0.98572369,\n",
       "          0.99586481,  1.        ],\n",
       "        [ 1.        , -0.9998    , -0.9996    , ...,  1.        ,\n",
       "          1.        ,  0.99984189]]),\n",
       " array([[-0.93288109],\n",
       "        [-0.92985305],\n",
       "        [-0.93265695],\n",
       "        ...,\n",
       "        [ 0.99387613],\n",
       "        [ 0.99977368],\n",
       "        [ 1.        ]]))"
      ]
     },
     "execution_count": 92,
     "metadata": {},
     "output_type": "execute_result"
    }
   ],
   "source": [
    "# scaling the feature dataset\n",
    "scaler_x = preprocessing.MinMaxScaler (feature_range=(-1, 1))\n",
    "x = np.array(x).reshape((len(x) ,len(cols)))\n",
    "x = scaler_x.fit_transform(x)\n",
    "\n",
    "# scaling the target variable\n",
    "scaler_y = preprocessing.MinMaxScaler (feature_range=(-1, 1))\n",
    "y = np.array (y).reshape ((len( y), 1))\n",
    "y = scaler_y.fit_transform (y)\n",
    "\n",
    "x, y"
   ]
  },
  {
   "cell_type": "code",
   "execution_count": 94,
   "metadata": {},
   "outputs": [
    {
     "name": "stdout",
     "output_type": "stream",
     "text": [
      "Number of rows and columns in the Training set X: (3913, 7) and y: (3913, 1)\n",
      "Number of rows and columns in the Test set X: (977, 7) and y: (977, 1)\n"
     ]
    }
   ],
   "source": [
    "#preparing training and test dataset\n",
    "\n",
    "X_train = x[0 : train_end,]\n",
    "X_test = x[train_end+1 : len(x),]    \n",
    "y_train = y[0 : train_end] \n",
    "y_test = y[train_end+1 : len(y)]  \n",
    "\n",
    "# printing the shape of the training and the test datasets\n",
    "\n",
    "print('Number of rows and columns in the Training set X:', X_train.shape, 'and y:', y_train.shape)\n",
    "print('Number of rows and columns in the Test set X:', X_test.shape, 'and y:', y_test.shape)"
   ]
  },
  {
   "cell_type": "code",
   "execution_count": 95,
   "metadata": {},
   "outputs": [
    {
     "name": "stdout",
     "output_type": "stream",
     "text": [
      "Shape of Training set X: (3913, 7, 1)\n",
      "Shape of Test set X: (977, 7, 1)\n"
     ]
    }
   ],
   "source": [
    "# reshaping the feature dataset into 3D for feeding into the LSTM model\n",
    "\n",
    "X_train = X_train.reshape(X_train.shape + (1,)) \n",
    "X_test = X_test.reshape(X_test.shape + (1,))\n",
    "\n",
    "# printing the re-shaped feature dataset\n",
    "print('Shape of Training set X:', X_train.shape)\n",
    "print('Shape of Test set X:', X_test.shape)"
   ]
  },
  {
   "cell_type": "code",
   "execution_count": 116,
   "metadata": {},
   "outputs": [],
   "source": [
    "\n",
    "from tensorflow.keras.models import Sequential # fol lstm\n",
    "from tensorflow.keras.layers import Dense, LSTM, Dropout, Dense, Activation\n"
   ]
  },
  {
   "cell_type": "code",
   "execution_count": 117,
   "metadata": {},
   "outputs": [
    {
     "name": "stdout",
     "output_type": "stream",
     "text": [
      "Model: \"sequential\"\n",
      "_________________________________________________________________\n",
      "Layer (type)                 Output Shape              Param #   \n",
      "=================================================================\n",
      "lstm (LSTM)                  (None, 7, 100)            40800     \n",
      "_________________________________________________________________\n",
      "dropout (Dropout)            (None, 7, 100)            0         \n",
      "_________________________________________________________________\n",
      "lstm_1 (LSTM)                (None, 7, 100)            80400     \n",
      "_________________________________________________________________\n",
      "dropout_1 (Dropout)          (None, 7, 100)            0         \n",
      "_________________________________________________________________\n",
      "lstm_2 (LSTM)                (None, 100)               80400     \n",
      "_________________________________________________________________\n",
      "dropout_2 (Dropout)          (None, 100)               0         \n",
      "_________________________________________________________________\n",
      "dense (Dense)                (None, 1)                 101       \n",
      "=================================================================\n",
      "Total params: 201,701\n",
      "Trainable params: 201,701\n",
      "Non-trainable params: 0\n",
      "_________________________________________________________________\n"
     ]
    }
   ],
   "source": [
    "# setting the seed to achieve consistent and less random predictions at each execution\n",
    "np.random.seed(2021)\n",
    "\n",
    "# setting the model architecture\n",
    "model=Sequential()\n",
    "model.add(LSTM(100,return_sequences=True,activation='tanh',input_shape=(len(cols),1)))\n",
    "model.add(Dropout(0.1))\n",
    "model.add(LSTM(100,return_sequences=True,activation='tanh'))\n",
    "model.add(Dropout(0.1))\n",
    "model.add(LSTM(100,activation='tanh'))\n",
    "model.add(Dropout(0.1))\n",
    "model.add(Dense(1))\n",
    "\n",
    "# printing the model summary\n",
    "model.summary()"
   ]
  },
  {
   "cell_type": "code",
   "execution_count": 118,
   "metadata": {},
   "outputs": [
    {
     "name": "stdout",
     "output_type": "stream",
     "text": [
      "Epoch 1/10\n",
      "392/392 [==============================] - 10s 12ms/step - loss: 0.0286 - val_loss: 0.0224\n",
      "Epoch 2/10\n",
      "392/392 [==============================] - 4s 9ms/step - loss: 0.0024 - val_loss: 0.0023\n",
      "Epoch 3/10\n",
      "392/392 [==============================] - 3s 9ms/step - loss: 0.0016 - val_loss: 0.0019\n",
      "Epoch 4/10\n",
      "392/392 [==============================] - 4s 9ms/step - loss: 0.0013 - val_loss: 2.4147e-04\n",
      "Epoch 5/10\n",
      "392/392 [==============================] - 3s 9ms/step - loss: 0.0012 - val_loss: 9.0689e-04\n",
      "Epoch 6/10\n",
      "392/392 [==============================] - 4s 9ms/step - loss: 0.0012 - val_loss: 6.0983e-04\n",
      "Epoch 7/10\n",
      "392/392 [==============================] - 3s 9ms/step - loss: 0.0012 - val_loss: 2.4363e-04\n",
      "Epoch 8/10\n",
      "392/392 [==============================] - 3s 9ms/step - loss: 0.0010 - val_loss: 2.3455e-04\n",
      "Epoch 9/10\n",
      "392/392 [==============================] - 4s 9ms/step - loss: 9.2195e-04 - val_loss: 4.7323e-04\n",
      "Epoch 10/10\n",
      "392/392 [==============================] - 4s 9ms/step - loss: 9.6978e-04 - val_loss: 2.8463e-04\n"
     ]
    },
    {
     "data": {
      "text/plain": [
       "<tensorflow.python.keras.callbacks.History at 0x24462a55310>"
      ]
     },
     "execution_count": 118,
     "metadata": {},
     "output_type": "execute_result"
    }
   ],
   "source": [
    "# compiling the model\n",
    "model.compile(loss='mse' , optimizer='adam')\n",
    "\n",
    "# fitting the model using the training dataset\n",
    "model.fit(X_train, y_train, validation_split=0.2, epochs=10, batch_size=8, verbose=1)"
   ]
  },
  {
   "cell_type": "code",
   "execution_count": 119,
   "metadata": {},
   "outputs": [
    {
     "name": "stdout",
     "output_type": "stream",
     "text": [
      "Predictions:\n"
     ]
    },
    {
     "data": {
      "text/plain": [
       "array([[26636.965],\n",
       "       [26849.588],\n",
       "       [27008.057],\n",
       "       [27127.14 ],\n",
       "       [27050.982]], dtype=float32)"
      ]
     },
     "execution_count": 119,
     "metadata": {},
     "output_type": "execute_result"
    }
   ],
   "source": [
    "#Prediction of stock data using the test dataset\n",
    "\n",
    "predictions = model.predict(X_test) \n",
    "\n",
    "# unscaling the predictions\n",
    "predictions = scaler_y.inverse_transform(np.array(predictions).reshape((len(predictions), 1)))\n",
    "\n",
    "# printing the predictions\n",
    "print('Predictions:')\n",
    "predictions[0:5]"
   ]
  },
  {
   "cell_type": "code",
   "execution_count": 120,
   "metadata": {},
   "outputs": [
    {
     "name": "stdout",
     "output_type": "stream",
     "text": [
      "3913/3913 [==============================] - 9s 2ms/step - loss: 5.1230e-04\n",
      "977/977 [==============================] - 2s 2ms/step - loss: 7.2407e-04\n",
      "Train Loss = 0.0005\n",
      "Test Loss = 0.0007\n"
     ]
    }
   ],
   "source": [
    "# calculating the training mean-squared-error\n",
    "train_loss = model.evaluate(X_train, y_train, batch_size = 1)\n",
    "\n",
    "# calculating the test mean-squared-error\n",
    "test_loss = model.evaluate(X_test, y_test, batch_size = 1)\n",
    "\n",
    "# printing the training and the test mean-squared-errors\n",
    "print('Train Loss =', round(train_loss,4))\n",
    "print('Test Loss =', round(test_loss,4))"
   ]
  },
  {
   "cell_type": "code",
   "execution_count": 121,
   "metadata": {},
   "outputs": [
    {
     "name": "stdout",
     "output_type": "stream",
     "text": [
      "Root Mean Square Error (sklearn.metrics) = 35974.9702\n"
     ]
    }
   ],
   "source": [
    "# calculating root mean squared error using sklearn.metrics package\n",
    "\n",
    "rmse = metrics.mean_squared_error(y_test, predictions)\n",
    "print('Root Mean Square Error (sklearn.metrics) =', round(np.sqrt(rmse),4))"
   ]
  },
  {
   "cell_type": "code",
   "execution_count": 122,
   "metadata": {},
   "outputs": [],
   "source": [
    "# unscaling the test datasets\n",
    "X_test = scaler_x.inverse_transform(np.array(X_test).reshape((len(X_test), len(cols))))\n",
    "\n",
    "# unscaling the test y dataset, y_test\n",
    "y_train = scaler_y.inverse_transform(np.array(y_train).reshape((len(y_train), 1)))\n",
    "y_test = scaler_y.inverse_transform(np.array(y_test).reshape((len(y_test), 1)))"
   ]
  },
  {
   "cell_type": "code",
   "execution_count": 123,
   "metadata": {},
   "outputs": [
    {
     "data": {
      "image/png": "[encoded data removed]",
      "text/plain": [
       "<Figure size 1080x504 with 1 Axes>"
      ]
     },
     "metadata": {
      "needs_background": "light"
     },
     "output_type": "display_data"
    }
   ],
   "source": [
    "# plotting the prediction and original dataset on the same plot\n",
    "    \n",
    "plt.figure(figsize=(15,7))\n",
    "plt.plot(predictions, label=\"Predicted Close Price\", color='r')\n",
    "plt.plot([row[0] for row in y_test], label=\"Testing Close Price\")\n",
    "plt.legend(loc='upper center', bbox_to_anchor=(0.5, -0.05), fancybox=True, shadow=True, ncol=2)\n",
    "plt.title('SENSEX and Prediction')\n",
    "plt.show()"
   ]
  },
  {
   "cell_type": "code",
   "execution_count": null,
   "metadata": {},
   "outputs": [],
   "source": []
  }
 ],
 "metadata": {
  "kernelspec": {
   "display_name": "Python 3",
   "language": "python",
   "name": "python3"
  },
  "language_info": {
   "codemirror_mode": {
    "name": "ipython",
    "version": 3
   },
   "file_extension": ".py",
   "mimetype": "text/x-python",
   "name": "python",
   "nbconvert_exporter": "python",
   "pygments_lexer": "ipython3",
   "version": "3.8.5"
  }
 },
 "nbformat": 4,
 "nbformat_minor": 4
}
